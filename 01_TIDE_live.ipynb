{
 "cells": [
  {
   "cell_type": "markdown",
   "id": "3dd2f27e",
   "metadata": {},
   "source": [
    "# Conférences Python Master TIDE #1\n",
    "\n",
    "## Librairie pandas\n",
    "\n",
    "Dataset des communes françaises : `correspondance-code-insee-code-postal.csv`\n",
    "\n",
    "0) Import\n",
    "- Importer la librairie pandas\n",
    "- Utiliser les options suivantes\n",
    "```python\n",
    "pd.set_option(\"display.min_rows\", 16)\n",
    "plt.style.use('seaborn-darkgrid')\n",
    "```\n",
    "\n",
    "1) Charger le fichier CSV\n",
    "- Uniquement les 11 première colonnes\n",
    "- Utiliser la colonne \"Code INSEE\" comme index\n",
    "- Trier selon l'index\n",
    "\n",
    "2) Questions\n",
    "- Combien y a-t-il de départements ?\n",
    "- Quelle commune est la plus haute ?\n",
    "- Quelle commune est la plus peuplée ?\n",
    "- Quelle commune a le nom le plus court ?\n",
    "- Quelle commune a le nom le plus long ?\n",
    "- Quel est le nom de commune le plus fréquent ?\n",
    "- Ecrire une fonction qui recherche les communes se terminant par un motif du type \"-mot1-mot2\" (par exemple \"-SUR-MER\")\n",
    "```python\n",
    "def selection(mot1, mot2):\n",
    "    pass\n",
    "```\n",
    "- Quelles villes contiennent deux \"Z\" (accolés, séparés par une seule lettre, séparés par un nombre quelconque de lettres, séparés par au moins une lettre) ?\n",
    "- Quelles sont les dix terminaisons des noms de communes du type \"-mot1-mot2\" les plus fréquentes ?\n",
    "\n",
    "3) Transformations\n",
    "- Passer la colonne \"Superficie\" en km²\n",
    "- Passer la colonne \"Altitude Moyenne\" en entiers\n",
    "- Modifier la colonne \"Statut\" en categorie ordonnée\n",
    "\n",
    "4) Géographie\n",
    "- Créer une colonne \"CP Ville\" à partir du code postal et du nom de chaque commune\n",
    "- Extraire la latitude et la longitude de la colonne \"geo_point_2d\"\n",
    "- Ecrire une fonction qui retourne le \"CP Ville\" de la commune la plus proche d'une latitude et d'une longitude\n",
    "```python\n",
    "def ville(lat, long):\n",
    "    pass\n",
    "```\n",
    "- Ecrire une fonction qui transforme des coordonnées GPS (en degrés, minutes et secondes) en coordonnées décimales\n",
    "```python\n",
    "def gps2dec(deg, mn, sec):\n",
    "    pass\n",
    "```\n",
    "- Choisir une petite commune française sur Wikipedia et vérifier qu'elle est trouvée à partir de ces coordonnnées GPS en utilisant les 2 fonctions définies\n",
    "\n",
    "5) Géométrie\n",
    "- Décoder les données JSON de la colonne \"geo_shape\"\n",
    "- Donner le décompte des différentes valeurs associées à la clé \"type\"\n",
    "- Donner le décompte des longueurs des listes associées à la clé \"coordinates\"\n",
    "- Quelles sont les \"CP Ville\" des communes de type \"Polygone\" et dont la longueur des listes accédées avec la clé \"coordinates\" vaut 2 ?\n",
    "\n",
    "6) Graphiques\n",
    "- Afficher un histogramme avec les longueurs des noms des communes\n",
    "- Afficher un graphique de type scatterplot à partir des coordonnées des communes\n",
    "- Trouver une condition pour limiter le dataset à la France métropolitaine et afficher un graphique\n",
    "- Mettre toutes les communes à moins de 1000m en bleu et celle à plus de 1000m en rouge\n",
    "- Afficher un graphique de type scatterplot dans lequel les communes se terminant par un motif du type \"-mot1-mot2\" sont mis dans une autre couleur\n",
    "- Afficher un graphique de type scatterplot dans lequel la couleur utilisée dépend de la colonne \"Altitude moyenne\" selon la colormap \"Spectral_r\"\n",
    "- Afficher une carte de France métropolitaine avec les préfectures de région et leur nom, en corrigeant celles qui sont des arrondissements de Paris, Lyon ou Marseille.\n",
    "\n",
    "&copy; Francis Wolinski 2023"
   ]
  },
  {
   "cell_type": "code",
   "execution_count": 4,
   "id": "5a44aa00-d0f8-4fc4-9385-959a83cbb738",
   "metadata": {},
   "outputs": [],
   "source": [
    "import pandas as pd\n",
    "import matplotlib.pyplot as plt\n",
    "\n",
    "pd.set_option(\"display.min_rows\", 16)\n",
    "plt.style.use('seaborn-v0_8-darkgrid')"
   ]
  },
  {
   "cell_type": "code",
   "execution_count": 7,
   "id": "db725759-2b2b-4115-977d-3d8241aad4ad",
   "metadata": {},
   "outputs": [
    {
     "name": "stdout",
     "output_type": "stream",
     "text": [
      "<class 'pandas.core.frame.DataFrame'>\n",
      "Index: 36742 entries, 01001 to 97617\n",
      "Data columns (total 10 columns):\n",
      " #   Column            Non-Null Count  Dtype  \n",
      "---  ------            --------------  -----  \n",
      " 0   Code Postal       36742 non-null  object \n",
      " 1   Commune           36742 non-null  object \n",
      " 2   Département       36742 non-null  object \n",
      " 3   Région            36742 non-null  object \n",
      " 4   Statut            36742 non-null  object \n",
      " 5   Altitude Moyenne  36742 non-null  float64\n",
      " 6   Superficie        36742 non-null  float64\n",
      " 7   Population        36742 non-null  float64\n",
      " 8   geo_point_2d      36742 non-null  object \n",
      " 9   geo_shape         36742 non-null  object \n",
      "dtypes: float64(3), object(7)\n",
      "memory usage: 3.1+ MB\n"
     ]
    }
   ],
   "source": [
    "df = (pd\n",
    "      .read_csv(\"data/correspondance-code-insee-code-postal.csv\",\n",
    "                sep=\";\",\n",
    "                index_col=\"Code INSEE\",\n",
    "                usecols=range(11)\n",
    "                )\n",
    "      .sort_index()\n",
    "     )\n",
    "\n",
    "df.info()"
   ]
  },
  {
   "cell_type": "code",
   "execution_count": 8,
   "id": "f90bacd5-c588-46e7-98a7-586203faa764",
   "metadata": {},
   "outputs": [
    {
     "data": {
      "text/html": [
       "<div>\n",
       "<style scoped>\n",
       "    .dataframe tbody tr th:only-of-type {\n",
       "        vertical-align: middle;\n",
       "    }\n",
       "\n",
       "    .dataframe tbody tr th {\n",
       "        vertical-align: top;\n",
       "    }\n",
       "\n",
       "    .dataframe thead th {\n",
       "        text-align: right;\n",
       "    }\n",
       "</style>\n",
       "<table border=\"1\" class=\"dataframe\">\n",
       "  <thead>\n",
       "    <tr style=\"text-align: right;\">\n",
       "      <th></th>\n",
       "      <th>Code Postal</th>\n",
       "      <th>Commune</th>\n",
       "      <th>Département</th>\n",
       "      <th>Région</th>\n",
       "      <th>Statut</th>\n",
       "      <th>Altitude Moyenne</th>\n",
       "      <th>Superficie</th>\n",
       "      <th>Population</th>\n",
       "      <th>geo_point_2d</th>\n",
       "      <th>geo_shape</th>\n",
       "    </tr>\n",
       "    <tr>\n",
       "      <th>Code INSEE</th>\n",
       "      <th></th>\n",
       "      <th></th>\n",
       "      <th></th>\n",
       "      <th></th>\n",
       "      <th></th>\n",
       "      <th></th>\n",
       "      <th></th>\n",
       "      <th></th>\n",
       "      <th></th>\n",
       "      <th></th>\n",
       "    </tr>\n",
       "  </thead>\n",
       "  <tbody>\n",
       "    <tr>\n",
       "      <th>01001</th>\n",
       "      <td>01400</td>\n",
       "      <td>L'ABERGEMENT-CLEMENCIAT</td>\n",
       "      <td>AIN</td>\n",
       "      <td>RHONE-ALPES</td>\n",
       "      <td>Commune simple</td>\n",
       "      <td>242.0</td>\n",
       "      <td>1565.0</td>\n",
       "      <td>0.8</td>\n",
       "      <td>46.1534255214, 4.92611354223</td>\n",
       "      <td>{\"type\": \"Polygon\", \"coordinates\": [[[4.926273...</td>\n",
       "    </tr>\n",
       "    <tr>\n",
       "      <th>01002</th>\n",
       "      <td>01640</td>\n",
       "      <td>L'ABERGEMENT-DE-VAREY</td>\n",
       "      <td>AIN</td>\n",
       "      <td>RHONE-ALPES</td>\n",
       "      <td>Commune simple</td>\n",
       "      <td>483.0</td>\n",
       "      <td>912.0</td>\n",
       "      <td>0.2</td>\n",
       "      <td>46.0091878776, 5.42801696363</td>\n",
       "      <td>{\"type\": \"Polygon\", \"coordinates\": [[[5.430089...</td>\n",
       "    </tr>\n",
       "    <tr>\n",
       "      <th>01004</th>\n",
       "      <td>01500</td>\n",
       "      <td>AMBERIEU-EN-BUGEY</td>\n",
       "      <td>AIN</td>\n",
       "      <td>RHONE-ALPES</td>\n",
       "      <td>Chef-lieu canton</td>\n",
       "      <td>379.0</td>\n",
       "      <td>2448.0</td>\n",
       "      <td>13.4</td>\n",
       "      <td>45.9608475114, 5.3729257777</td>\n",
       "      <td>{\"type\": \"Polygon\", \"coordinates\": [[[5.386190...</td>\n",
       "    </tr>\n",
       "    <tr>\n",
       "      <th>01005</th>\n",
       "      <td>01330</td>\n",
       "      <td>AMBERIEUX-EN-DOMBES</td>\n",
       "      <td>AIN</td>\n",
       "      <td>RHONE-ALPES</td>\n",
       "      <td>Commune simple</td>\n",
       "      <td>290.0</td>\n",
       "      <td>1605.0</td>\n",
       "      <td>1.6</td>\n",
       "      <td>45.9961799872, 4.91227250796</td>\n",
       "      <td>{\"type\": \"Polygon\", \"coordinates\": [[[4.895580...</td>\n",
       "    </tr>\n",
       "    <tr>\n",
       "      <th>01006</th>\n",
       "      <td>01300</td>\n",
       "      <td>AMBLEON</td>\n",
       "      <td>AIN</td>\n",
       "      <td>RHONE-ALPES</td>\n",
       "      <td>Commune simple</td>\n",
       "      <td>589.0</td>\n",
       "      <td>602.0</td>\n",
       "      <td>0.1</td>\n",
       "      <td>45.7494989044, 5.59432017366</td>\n",
       "      <td>{\"type\": \"Polygon\", \"coordinates\": [[[5.614854...</td>\n",
       "    </tr>\n",
       "  </tbody>\n",
       "</table>\n",
       "</div>"
      ],
      "text/plain": [
       "           Code Postal                  Commune Département       Région  \\\n",
       "Code INSEE                                                                 \n",
       "01001            01400  L'ABERGEMENT-CLEMENCIAT         AIN  RHONE-ALPES   \n",
       "01002            01640    L'ABERGEMENT-DE-VAREY         AIN  RHONE-ALPES   \n",
       "01004            01500        AMBERIEU-EN-BUGEY         AIN  RHONE-ALPES   \n",
       "01005            01330      AMBERIEUX-EN-DOMBES         AIN  RHONE-ALPES   \n",
       "01006            01300                  AMBLEON         AIN  RHONE-ALPES   \n",
       "\n",
       "                      Statut  Altitude Moyenne  Superficie  Population  \\\n",
       "Code INSEE                                                               \n",
       "01001         Commune simple             242.0      1565.0         0.8   \n",
       "01002         Commune simple             483.0       912.0         0.2   \n",
       "01004       Chef-lieu canton             379.0      2448.0        13.4   \n",
       "01005         Commune simple             290.0      1605.0         1.6   \n",
       "01006         Commune simple             589.0       602.0         0.1   \n",
       "\n",
       "                            geo_point_2d  \\\n",
       "Code INSEE                                 \n",
       "01001       46.1534255214, 4.92611354223   \n",
       "01002       46.0091878776, 5.42801696363   \n",
       "01004        45.9608475114, 5.3729257777   \n",
       "01005       45.9961799872, 4.91227250796   \n",
       "01006       45.7494989044, 5.59432017366   \n",
       "\n",
       "                                                    geo_shape  \n",
       "Code INSEE                                                     \n",
       "01001       {\"type\": \"Polygon\", \"coordinates\": [[[4.926273...  \n",
       "01002       {\"type\": \"Polygon\", \"coordinates\": [[[5.430089...  \n",
       "01004       {\"type\": \"Polygon\", \"coordinates\": [[[5.386190...  \n",
       "01005       {\"type\": \"Polygon\", \"coordinates\": [[[4.895580...  \n",
       "01006       {\"type\": \"Polygon\", \"coordinates\": [[[5.614854...  "
      ]
     },
     "execution_count": 8,
     "metadata": {},
     "output_type": "execute_result"
    }
   ],
   "source": [
    "df.head()"
   ]
  },
  {
   "cell_type": "code",
   "execution_count": 11,
   "id": "32b957d8-4ffe-4607-8125-378338b4ab7f",
   "metadata": {},
   "outputs": [
    {
     "data": {
      "text/plain": [
       "[0, 1, 4, 9, 16, 25, 36, 49, 64, 81]"
      ]
     },
     "execution_count": 11,
     "metadata": {},
     "output_type": "execute_result"
    }
   ],
   "source": [
    "[i*i for i in range(10)]"
   ]
  },
  {
   "cell_type": "code",
   "execution_count": 12,
   "id": "43206edc-0597-4b59-884b-80cb84d59f68",
   "metadata": {},
   "outputs": [
    {
     "data": {
      "text/plain": [
       "[1, 9, 25, 49, 81]"
      ]
     },
     "execution_count": 12,
     "metadata": {},
     "output_type": "execute_result"
    }
   ],
   "source": [
    "[i*i for i in range(10) if i % 2 == 1]"
   ]
  },
  {
   "cell_type": "code",
   "execution_count": 13,
   "id": "6f3dcca3-4a8b-49f2-8905-6024ac788f24",
   "metadata": {},
   "outputs": [
    {
     "data": {
      "text/plain": [
       "<zip at 0x1b874b46b80>"
      ]
     },
     "execution_count": 13,
     "metadata": {},
     "output_type": "execute_result"
    }
   ],
   "source": [
    "zip([1, 2, 3], [\"a\", \"b\", \"c\"])"
   ]
  },
  {
   "cell_type": "code",
   "execution_count": 14,
   "id": "3ab8a22b-e792-4521-b3a2-7e87a6c81934",
   "metadata": {},
   "outputs": [
    {
     "data": {
      "text/plain": [
       "[(1, 'a'), (2, 'b'), (3, 'c')]"
      ]
     },
     "execution_count": 14,
     "metadata": {},
     "output_type": "execute_result"
    }
   ],
   "source": [
    "list(zip([1, 2, 3], [\"a\", \"b\", \"c\"]))"
   ]
  },
  {
   "cell_type": "code",
   "execution_count": 19,
   "id": "a7c5ddce-0b8e-4886-9220-c59a6cfab12b",
   "metadata": {},
   "outputs": [
    {
     "name": "stdout",
     "output_type": "stream",
     "text": [
      "CPU times: total: 250 ms\n",
      "Wall time: 243 ms\n"
     ]
    }
   ],
   "source": [
    "%%time\n",
    "for x in range(100000):\n",
    "    [f\"{j}-{i}\" for i, j in zip([1, 2, 3], [\"a\", \"b\", \"c\"])]"
   ]
  },
  {
   "cell_type": "code",
   "execution_count": 20,
   "id": "0a4d7878-7e97-47db-9aad-a5ceec448c88",
   "metadata": {},
   "outputs": [
    {
     "name": "stdout",
     "output_type": "stream",
     "text": [
      "CPU times: total: 281 ms\n",
      "Wall time: 295 ms\n"
     ]
    }
   ],
   "source": [
    "%%time\n",
    "for x in range(100000):\n",
    "    result = []\n",
    "    for i, j in zip([1, 2, 3], [\"a\", \"b\", \"c\"]):\n",
    "        result.append(f\"{j}-{i}\")"
   ]
  },
  {
   "cell_type": "code",
   "execution_count": 9,
   "id": "86c5c322-d998-43a6-83b5-e133e86cad5f",
   "metadata": {},
   "outputs": [
    {
     "data": {
      "text/plain": [
       "[(3, 3), (113, 5), (195, 3), (211, 3), (212, 3), (14, 2), (4, 2), (6, 2)]"
      ]
     },
     "execution_count": 9,
     "metadata": {},
     "output_type": "execute_result"
    }
   ],
   "source": [
    "var = pd.read_html(\"https://fr.wikipedia.org/wiki/Liste_des_pays_par_PIB_nominal\")\n",
    "\n",
    "[x.shape for x in var]"
   ]
  },
  {
   "cell_type": "code",
   "execution_count": 10,
   "id": "68551c16-91ae-41c5-a6f4-cb7f02e8a661",
   "metadata": {},
   "outputs": [
    {
     "data": {
      "text/html": [
       "<div>\n",
       "<style scoped>\n",
       "    .dataframe tbody tr th:only-of-type {\n",
       "        vertical-align: middle;\n",
       "    }\n",
       "\n",
       "    .dataframe tbody tr th {\n",
       "        vertical-align: top;\n",
       "    }\n",
       "\n",
       "    .dataframe thead th {\n",
       "        text-align: right;\n",
       "    }\n",
       "</style>\n",
       "<table border=\"1\" class=\"dataframe\">\n",
       "  <thead>\n",
       "    <tr style=\"text-align: right;\">\n",
       "      <th></th>\n",
       "      <th>Rang</th>\n",
       "      <th>Pays ou territoire</th>\n",
       "      <th>PIB (en milliards de dollars/an)</th>\n",
       "    </tr>\n",
       "  </thead>\n",
       "  <tbody>\n",
       "    <tr>\n",
       "      <th>0</th>\n",
       "      <td>1</td>\n",
       "      <td>États-Unis</td>\n",
       "      <td>20 494,05</td>\n",
       "    </tr>\n",
       "    <tr>\n",
       "      <th>1</th>\n",
       "      <td>-</td>\n",
       "      <td>Union européenne[1],[note 1]</td>\n",
       "      <td>18 750,05</td>\n",
       "    </tr>\n",
       "    <tr>\n",
       "      <th>2</th>\n",
       "      <td>2</td>\n",
       "      <td>Chine[note 2]</td>\n",
       "      <td>13 407,40</td>\n",
       "    </tr>\n",
       "    <tr>\n",
       "      <th>3</th>\n",
       "      <td>3</td>\n",
       "      <td>Japon</td>\n",
       "      <td>4 971,93</td>\n",
       "    </tr>\n",
       "    <tr>\n",
       "      <th>4</th>\n",
       "      <td>4</td>\n",
       "      <td>Allemagne</td>\n",
       "      <td>4 000,39</td>\n",
       "    </tr>\n",
       "    <tr>\n",
       "      <th>5</th>\n",
       "      <td>5</td>\n",
       "      <td>Royaume-Uni</td>\n",
       "      <td>2 828,64</td>\n",
       "    </tr>\n",
       "    <tr>\n",
       "      <th>6</th>\n",
       "      <td>6</td>\n",
       "      <td>France</td>\n",
       "      <td>2 775,25</td>\n",
       "    </tr>\n",
       "    <tr>\n",
       "      <th>7</th>\n",
       "      <td>7</td>\n",
       "      <td>Inde</td>\n",
       "      <td>2 716,75</td>\n",
       "    </tr>\n",
       "    <tr>\n",
       "      <th>...</th>\n",
       "      <td>...</td>\n",
       "      <td>...</td>\n",
       "      <td>...</td>\n",
       "    </tr>\n",
       "    <tr>\n",
       "      <th>187</th>\n",
       "      <td>187</td>\n",
       "      <td>Tonga</td>\n",
       "      <td>0470</td>\n",
       "    </tr>\n",
       "    <tr>\n",
       "      <th>188</th>\n",
       "      <td>188</td>\n",
       "      <td>Sao Tomé-et-Principe</td>\n",
       "      <td>0449</td>\n",
       "    </tr>\n",
       "    <tr>\n",
       "      <th>189</th>\n",
       "      <td>189</td>\n",
       "      <td>Micronésie</td>\n",
       "      <td>0374</td>\n",
       "    </tr>\n",
       "    <tr>\n",
       "      <th>190</th>\n",
       "      <td>190</td>\n",
       "      <td>Palaos</td>\n",
       "      <td>0297</td>\n",
       "    </tr>\n",
       "    <tr>\n",
       "      <th>191</th>\n",
       "      <td>191</td>\n",
       "      <td>Îles Marshall</td>\n",
       "      <td>0214</td>\n",
       "    </tr>\n",
       "    <tr>\n",
       "      <th>192</th>\n",
       "      <td>192</td>\n",
       "      <td>Kiribati</td>\n",
       "      <td>0189</td>\n",
       "    </tr>\n",
       "    <tr>\n",
       "      <th>193</th>\n",
       "      <td>193</td>\n",
       "      <td>Nauru</td>\n",
       "      <td>0117</td>\n",
       "    </tr>\n",
       "    <tr>\n",
       "      <th>194</th>\n",
       "      <td>194</td>\n",
       "      <td>Tuvalu</td>\n",
       "      <td>00450</td>\n",
       "    </tr>\n",
       "  </tbody>\n",
       "</table>\n",
       "<p>195 rows × 3 columns</p>\n",
       "</div>"
      ],
      "text/plain": [
       "    Rang            Pays ou territoire PIB (en milliards de dollars/an)\n",
       "0      1                    États-Unis                        20 494,05\n",
       "1      -  Union européenne[1],[note 1]                        18 750,05\n",
       "2      2                 Chine[note 2]                        13 407,40\n",
       "3      3                         Japon                         4 971,93\n",
       "4      4                     Allemagne                         4 000,39\n",
       "5      5                   Royaume-Uni                         2 828,64\n",
       "6      6                        France                         2 775,25\n",
       "7      7                          Inde                         2 716,75\n",
       "..   ...                           ...                              ...\n",
       "187  187                         Tonga                             0470\n",
       "188  188          Sao Tomé-et-Principe                             0449\n",
       "189  189                    Micronésie                             0374\n",
       "190  190                        Palaos                             0297\n",
       "191  191                 Îles Marshall                             0214\n",
       "192  192                      Kiribati                             0189\n",
       "193  193                         Nauru                             0117\n",
       "194  194                        Tuvalu                            00450\n",
       "\n",
       "[195 rows x 3 columns]"
      ]
     },
     "execution_count": 10,
     "metadata": {},
     "output_type": "execute_result"
    }
   ],
   "source": [
    "var[2]"
   ]
  },
  {
   "cell_type": "code",
   "execution_count": 22,
   "id": "b1675c9c-1014-410a-8166-b7a8980dd154",
   "metadata": {},
   "outputs": [
    {
     "data": {
      "text/plain": [
       "101"
      ]
     },
     "execution_count": 22,
     "metadata": {},
     "output_type": "execute_result"
    }
   ],
   "source": [
    "df[\"Département\"].nunique()"
   ]
  },
  {
   "cell_type": "code",
   "execution_count": 23,
   "id": "5f55c08f-4690-478f-aadf-e025e29f3dcb",
   "metadata": {},
   "outputs": [
    {
     "data": {
      "text/plain": [
       "Code Postal                                                     73480\n",
       "Commune                                              BONNEVAL-SUR-ARC\n",
       "Département                                                    SAVOIE\n",
       "Région                                                    RHONE-ALPES\n",
       "Statut                                                 Commune simple\n",
       "Altitude Moyenne                                               2713.0\n",
       "Superficie                                                    11231.0\n",
       "Population                                                        0.2\n",
       "geo_point_2d                             45.3858269371, 7.09178979521\n",
       "geo_shape           {\"type\": \"Polygon\", \"coordinates\": [[[7.110695...\n",
       "Name: 73047, dtype: object"
      ]
     },
     "execution_count": 23,
     "metadata": {},
     "output_type": "execute_result"
    }
   ],
   "source": [
    "df.loc[df[\"Altitude Moyenne\"].idxmax()]"
   ]
  },
  {
   "cell_type": "code",
   "execution_count": 24,
   "id": "94a88801-ab5d-479c-9724-3fbd9672edca",
   "metadata": {},
   "outputs": [
    {
     "data": {
      "text/html": [
       "<div>\n",
       "<style scoped>\n",
       "    .dataframe tbody tr th:only-of-type {\n",
       "        vertical-align: middle;\n",
       "    }\n",
       "\n",
       "    .dataframe tbody tr th {\n",
       "        vertical-align: top;\n",
       "    }\n",
       "\n",
       "    .dataframe thead th {\n",
       "        text-align: right;\n",
       "    }\n",
       "</style>\n",
       "<table border=\"1\" class=\"dataframe\">\n",
       "  <thead>\n",
       "    <tr style=\"text-align: right;\">\n",
       "      <th></th>\n",
       "      <th>Code Postal</th>\n",
       "      <th>Commune</th>\n",
       "      <th>Département</th>\n",
       "      <th>Région</th>\n",
       "      <th>Statut</th>\n",
       "      <th>Altitude Moyenne</th>\n",
       "      <th>Superficie</th>\n",
       "      <th>Population</th>\n",
       "      <th>geo_point_2d</th>\n",
       "      <th>geo_shape</th>\n",
       "    </tr>\n",
       "    <tr>\n",
       "      <th>Code INSEE</th>\n",
       "      <th></th>\n",
       "      <th></th>\n",
       "      <th></th>\n",
       "      <th></th>\n",
       "      <th></th>\n",
       "      <th></th>\n",
       "      <th></th>\n",
       "      <th></th>\n",
       "      <th></th>\n",
       "      <th></th>\n",
       "    </tr>\n",
       "  </thead>\n",
       "  <tbody>\n",
       "    <tr>\n",
       "      <th>73047</th>\n",
       "      <td>73480</td>\n",
       "      <td>BONNEVAL-SUR-ARC</td>\n",
       "      <td>SAVOIE</td>\n",
       "      <td>RHONE-ALPES</td>\n",
       "      <td>Commune simple</td>\n",
       "      <td>2713.0</td>\n",
       "      <td>11231.0</td>\n",
       "      <td>0.2</td>\n",
       "      <td>45.3858269371, 7.09178979521</td>\n",
       "      <td>{\"type\": \"Polygon\", \"coordinates\": [[[7.110695...</td>\n",
       "    </tr>\n",
       "  </tbody>\n",
       "</table>\n",
       "</div>"
      ],
      "text/plain": [
       "           Code Postal           Commune Département       Région  \\\n",
       "Code INSEE                                                          \n",
       "73047            73480  BONNEVAL-SUR-ARC      SAVOIE  RHONE-ALPES   \n",
       "\n",
       "                    Statut  Altitude Moyenne  Superficie  Population  \\\n",
       "Code INSEE                                                             \n",
       "73047       Commune simple            2713.0     11231.0         0.2   \n",
       "\n",
       "                            geo_point_2d  \\\n",
       "Code INSEE                                 \n",
       "73047       45.3858269371, 7.09178979521   \n",
       "\n",
       "                                                    geo_shape  \n",
       "Code INSEE                                                     \n",
       "73047       {\"type\": \"Polygon\", \"coordinates\": [[[7.110695...  "
      ]
     },
     "execution_count": 24,
     "metadata": {},
     "output_type": "execute_result"
    }
   ],
   "source": [
    "df.loc[df[\"Altitude Moyenne\"]==df[\"Altitude Moyenne\"].max()]"
   ]
  },
  {
   "cell_type": "code",
   "execution_count": 25,
   "id": "c5282400-91f4-412e-89f4-24d3ad527b91",
   "metadata": {},
   "outputs": [
    {
     "data": {
      "text/plain": [
       "'BONNEVAL-SUR-ARC'"
      ]
     },
     "execution_count": 25,
     "metadata": {},
     "output_type": "execute_result"
    }
   ],
   "source": [
    "df.loc[df[\"Altitude Moyenne\"].idxmax(), \"Commune\"]"
   ]
  },
  {
   "cell_type": "code",
   "execution_count": 28,
   "id": "9bc4f202-85da-4237-8d9d-d6488221b7b4",
   "metadata": {},
   "outputs": [
    {
     "name": "stdout",
     "output_type": "stream",
     "text": [
      "20.3 ms ± 433 µs per loop (mean ± std. dev. of 7 runs, 10 loops each)\n"
     ]
    }
   ],
   "source": [
    "%timeit df[\"Commune\"].apply(len)"
   ]
  },
  {
   "cell_type": "code",
   "execution_count": 29,
   "id": "ca478b4b-b622-4782-96f2-adc30169c613",
   "metadata": {},
   "outputs": [
    {
     "name": "stdout",
     "output_type": "stream",
     "text": [
      "24.2 ms ± 290 µs per loop (mean ± std. dev. of 7 runs, 10 loops each)\n"
     ]
    }
   ],
   "source": [
    "%timeit df[\"Commune\"].str.len()"
   ]
  },
  {
   "cell_type": "code",
   "execution_count": 30,
   "id": "2054cb93-ffb6-4418-b217-774fa9d8801e",
   "metadata": {},
   "outputs": [
    {
     "data": {
      "text/plain": [
       "'SAINT-REMY-EN-BOUZEMONT-SAINT-GENEST-ET-ISSON'"
      ]
     },
     "execution_count": 30,
     "metadata": {},
     "output_type": "execute_result"
    }
   ],
   "source": [
    "df.loc[df[\"Commune\"].str.len().idxmax(), \"Commune\"]"
   ]
  },
  {
   "cell_type": "code",
   "execution_count": 31,
   "id": "65e81b7c-f1a8-4d20-ba1a-25ee812d8e48",
   "metadata": {},
   "outputs": [
    {
     "data": {
      "text/plain": [
       "'Y'"
      ]
     },
     "execution_count": 31,
     "metadata": {},
     "output_type": "execute_result"
    }
   ],
   "source": [
    "df.loc[df[\"Commune\"].str.len().idxmin(), \"Commune\"]"
   ]
  },
  {
   "cell_type": "code",
   "execution_count": 32,
   "id": "15c01950-443f-4b32-bf8c-8d9b31c009df",
   "metadata": {},
   "outputs": [
    {
     "data": {
      "text/plain": [
       "36742"
      ]
     },
     "execution_count": 32,
     "metadata": {},
     "output_type": "execute_result"
    }
   ],
   "source": [
    "len(df)"
   ]
  },
  {
   "cell_type": "code",
   "execution_count": 33,
   "id": "bbe86077-09ad-4284-9b4d-9cd9a49b4389",
   "metadata": {},
   "outputs": [
    {
     "data": {
      "text/plain": [
       "34130"
      ]
     },
     "execution_count": 33,
     "metadata": {},
     "output_type": "execute_result"
    }
   ],
   "source": [
    "df[\"Commune\"].nunique()"
   ]
  },
  {
   "cell_type": "code",
   "execution_count": 35,
   "id": "d08ad0f9-b088-46dd-8384-78704309da42",
   "metadata": {},
   "outputs": [
    {
     "data": {
      "text/plain": [
       "'SAINTE-COLOMBE'"
      ]
     },
     "execution_count": 35,
     "metadata": {},
     "output_type": "execute_result"
    }
   ],
   "source": [
    "df[\"Commune\"].value_counts().idxmax()"
   ]
  },
  {
   "cell_type": "code",
   "execution_count": 47,
   "id": "8cf4108f-03bf-44df-9631-ceebb73ebfef",
   "metadata": {},
   "outputs": [
    {
     "data": {
      "text/plain": [
       "'SAINTE-COLOMBE'"
      ]
     },
     "execution_count": 47,
     "metadata": {},
     "output_type": "execute_result"
    }
   ],
   "source": [
    "df[\"Commune\"].value_counts().index[0]"
   ]
  },
  {
   "cell_type": "code",
   "execution_count": 49,
   "id": "91a66314-2362-4394-a327-f100179c838d",
   "metadata": {},
   "outputs": [
    {
     "data": {
      "text/plain": [
       "'SAINTE-COLOMBE'"
      ]
     },
     "execution_count": 49,
     "metadata": {},
     "output_type": "execute_result"
    }
   ],
   "source": [
    "df[\"Commune\"].mode()[0]"
   ]
  },
  {
   "cell_type": "code",
   "execution_count": 51,
   "id": "e4163abe-6a35-44f0-bd93-f558f58ef7fc",
   "metadata": {},
   "outputs": [
    {
     "data": {
      "text/plain": [
       "'SAINTE-COLOMBE'"
      ]
     },
     "execution_count": 51,
     "metadata": {},
     "output_type": "execute_result"
    }
   ],
   "source": [
    "df[\"Commune\"].describe()['top']"
   ]
  },
  {
   "cell_type": "code",
   "execution_count": 36,
   "id": "e0e190d7-a39e-4729-beda-998791dc52b0",
   "metadata": {},
   "outputs": [
    {
     "data": {
      "text/plain": [
       "SAINTE-COLOMBE             14\n",
       "SAINT-SAUVEUR              12\n",
       "SAINTE-MARIE               11\n",
       "BEAULIEU                   11\n",
       "SAINT-SULPICE              10\n",
       "SAINT-REMY                 10\n",
       "SAINT-AUBIN                10\n",
       "LE PIN                     10\n",
       "                           ..\n",
       "SAUVETERRE-DE-COMMINGES     1\n",
       "SAUSSENS                    1\n",
       "SAUBENS                     1\n",
       "SARREMEZAN                  1\n",
       "SARRECAVE                   1\n",
       "SANA                        1\n",
       "SAMOUILLAN                  1\n",
       "TSINGONI                    1\n",
       "Name: Commune, Length: 34130, dtype: int64"
      ]
     },
     "execution_count": 36,
     "metadata": {},
     "output_type": "execute_result"
    }
   ],
   "source": [
    "df[\"Commune\"].value_counts()#.idxmax()"
   ]
  },
  {
   "cell_type": "code",
   "execution_count": 41,
   "id": "99db1e1b-bb19-4e40-b6b1-cdb4eb1f0a17",
   "metadata": {},
   "outputs": [
    {
     "data": {
      "text/plain": [
       "Altitude Moyenne    73047\n",
       "Superficie          97353\n",
       "Population          31555\n",
       "dtype: object"
      ]
     },
     "execution_count": 41,
     "metadata": {},
     "output_type": "execute_result"
    }
   ],
   "source": [
    "df.select_dtypes(include='number').idxmax()"
   ]
  },
  {
   "cell_type": "code",
   "execution_count": 44,
   "id": "2d825058-0dc8-4ee9-94c0-ed833d3477aa",
   "metadata": {},
   "outputs": [
    {
     "data": {
      "text/plain": [
       "Code Postal          6101\n",
       "Commune             34130\n",
       "Département           101\n",
       "Région                 27\n",
       "Statut                  6\n",
       "Altitude Moyenne     1652\n",
       "Superficie           5246\n",
       "Population            509\n",
       "geo_point_2d        36742\n",
       "geo_shape           36742\n",
       "dtype: int64"
      ]
     },
     "execution_count": 44,
     "metadata": {},
     "output_type": "execute_result"
    }
   ],
   "source": [
    "df.nunique()"
   ]
  },
  {
   "cell_type": "code",
   "execution_count": 52,
   "id": "8de8c9be-1a7e-4f6b-87db-23adcf06eb73",
   "metadata": {},
   "outputs": [
    {
     "data": {
      "text/html": [
       "<div>\n",
       "<style scoped>\n",
       "    .dataframe tbody tr th:only-of-type {\n",
       "        vertical-align: middle;\n",
       "    }\n",
       "\n",
       "    .dataframe tbody tr th {\n",
       "        vertical-align: top;\n",
       "    }\n",
       "\n",
       "    .dataframe thead th {\n",
       "        text-align: right;\n",
       "    }\n",
       "</style>\n",
       "<table border=\"1\" class=\"dataframe\">\n",
       "  <thead>\n",
       "    <tr style=\"text-align: right;\">\n",
       "      <th></th>\n",
       "      <th>Code Postal</th>\n",
       "      <th>Commune</th>\n",
       "      <th>Département</th>\n",
       "      <th>Région</th>\n",
       "      <th>Statut</th>\n",
       "      <th>Altitude Moyenne</th>\n",
       "      <th>Superficie</th>\n",
       "      <th>Population</th>\n",
       "      <th>geo_point_2d</th>\n",
       "      <th>geo_shape</th>\n",
       "    </tr>\n",
       "    <tr>\n",
       "      <th>Code INSEE</th>\n",
       "      <th></th>\n",
       "      <th></th>\n",
       "      <th></th>\n",
       "      <th></th>\n",
       "      <th></th>\n",
       "      <th></th>\n",
       "      <th></th>\n",
       "      <th></th>\n",
       "      <th></th>\n",
       "      <th></th>\n",
       "    </tr>\n",
       "  </thead>\n",
       "  <tbody>\n",
       "    <tr>\n",
       "      <th>06011</th>\n",
       "      <td>06310</td>\n",
       "      <td>BEAULIEU-SUR-MER</td>\n",
       "      <td>ALPES-MARITIMES</td>\n",
       "      <td>PROVENCE-ALPES-COTE D'AZUR</td>\n",
       "      <td>Commune simple</td>\n",
       "      <td>36.0</td>\n",
       "      <td>108.0</td>\n",
       "      <td>3.7</td>\n",
       "      <td>43.7079039397, 7.33256934881</td>\n",
       "      <td>{\"type\": \"Polygon\", \"coordinates\": [[[7.326789...</td>\n",
       "    </tr>\n",
       "    <tr>\n",
       "      <th>06027</th>\n",
       "      <td>06800</td>\n",
       "      <td>CAGNES-SUR-MER</td>\n",
       "      <td>ALPES-MARITIMES</td>\n",
       "      <td>PROVENCE-ALPES-COTE D'AZUR</td>\n",
       "      <td>Chef-lieu canton</td>\n",
       "      <td>64.0</td>\n",
       "      <td>1821.0</td>\n",
       "      <td>48.0</td>\n",
       "      <td>43.6715162078, 7.15275703379</td>\n",
       "      <td>{\"type\": \"Polygon\", \"coordinates\": [[[7.145493...</td>\n",
       "    </tr>\n",
       "    <tr>\n",
       "      <th>06138</th>\n",
       "      <td>06590</td>\n",
       "      <td>THEOULE-SUR-MER</td>\n",
       "      <td>ALPES-MARITIMES</td>\n",
       "      <td>PROVENCE-ALPES-COTE D'AZUR</td>\n",
       "      <td>Commune simple</td>\n",
       "      <td>130.0</td>\n",
       "      <td>1072.0</td>\n",
       "      <td>1.6</td>\n",
       "      <td>43.4985345439, 6.92965248383</td>\n",
       "      <td>{\"type\": \"Polygon\", \"coordinates\": [[[6.933726...</td>\n",
       "    </tr>\n",
       "    <tr>\n",
       "      <th>06159</th>\n",
       "      <td>06230</td>\n",
       "      <td>VILLEFRANCHE-SUR-MER</td>\n",
       "      <td>ALPES-MARITIMES</td>\n",
       "      <td>PROVENCE-ALPES-COTE D'AZUR</td>\n",
       "      <td>Chef-lieu canton</td>\n",
       "      <td>231.0</td>\n",
       "      <td>492.0</td>\n",
       "      <td>5.8</td>\n",
       "      <td>43.7122153121, 7.32225410533</td>\n",
       "      <td>{\"type\": \"Polygon\", \"coordinates\": [[[7.308745...</td>\n",
       "    </tr>\n",
       "    <tr>\n",
       "      <th>13039</th>\n",
       "      <td>13270</td>\n",
       "      <td>FOS-SUR-MER</td>\n",
       "      <td>BOUCHES-DU-RHONE</td>\n",
       "      <td>PROVENCE-ALPES-COTE D'AZUR</td>\n",
       "      <td>Commune simple</td>\n",
       "      <td>5.0</td>\n",
       "      <td>8868.0</td>\n",
       "      <td>15.5</td>\n",
       "      <td>43.4556812107, 4.90452133912</td>\n",
       "      <td>{\"type\": \"Polygon\", \"coordinates\": [[[4.972215...</td>\n",
       "    </tr>\n",
       "    <tr>\n",
       "      <th>14059</th>\n",
       "      <td>14910</td>\n",
       "      <td>BENERVILLE-SUR-MER</td>\n",
       "      <td>CALVADOS</td>\n",
       "      <td>BASSE-NORMANDIE</td>\n",
       "      <td>Commune simple</td>\n",
       "      <td>45.0</td>\n",
       "      <td>309.0</td>\n",
       "      <td>0.5</td>\n",
       "      <td>49.3390106956, 0.0477938566692</td>\n",
       "      <td>{\"type\": \"Polygon\", \"coordinates\": [[[0.045946...</td>\n",
       "    </tr>\n",
       "    <tr>\n",
       "      <th>14062</th>\n",
       "      <td>14440</td>\n",
       "      <td>BENY-SUR-MER</td>\n",
       "      <td>CALVADOS</td>\n",
       "      <td>BASSE-NORMANDIE</td>\n",
       "      <td>Commune simple</td>\n",
       "      <td>51.0</td>\n",
       "      <td>680.0</td>\n",
       "      <td>0.3</td>\n",
       "      <td>49.2906537032, -0.436236066881</td>\n",
       "      <td>{\"type\": \"Polygon\", \"coordinates\": [[[-0.44340...</td>\n",
       "    </tr>\n",
       "    <tr>\n",
       "      <th>14066</th>\n",
       "      <td>14990</td>\n",
       "      <td>BERNIERES-SUR-MER</td>\n",
       "      <td>CALVADOS</td>\n",
       "      <td>BASSE-NORMANDIE</td>\n",
       "      <td>Commune simple</td>\n",
       "      <td>22.0</td>\n",
       "      <td>766.0</td>\n",
       "      <td>2.4</td>\n",
       "      <td>49.3194698748, -0.417743184424</td>\n",
       "      <td>{\"type\": \"Polygon\", \"coordinates\": [[[-0.41191...</td>\n",
       "    </tr>\n",
       "    <tr>\n",
       "      <th>...</th>\n",
       "      <td>...</td>\n",
       "      <td>...</td>\n",
       "      <td>...</td>\n",
       "      <td>...</td>\n",
       "      <td>...</td>\n",
       "      <td>...</td>\n",
       "      <td>...</td>\n",
       "      <td>...</td>\n",
       "      <td>...</td>\n",
       "      <td>...</td>\n",
       "    </tr>\n",
       "    <tr>\n",
       "      <th>85035</th>\n",
       "      <td>85470</td>\n",
       "      <td>BRETIGNOLLES-SUR-MER</td>\n",
       "      <td>VENDEE</td>\n",
       "      <td>PAYS DE LA LOIRE</td>\n",
       "      <td>Commune simple</td>\n",
       "      <td>15.0</td>\n",
       "      <td>2733.0</td>\n",
       "      <td>4.1</td>\n",
       "      <td>46.6374826705, -1.86324200464</td>\n",
       "      <td>{\"type\": \"Polygon\", \"coordinates\": [[[-1.84769...</td>\n",
       "    </tr>\n",
       "    <tr>\n",
       "      <th>85114</th>\n",
       "      <td>85520</td>\n",
       "      <td>JARD-SUR-MER</td>\n",
       "      <td>VENDEE</td>\n",
       "      <td>PAYS DE LA LOIRE</td>\n",
       "      <td>Commune simple</td>\n",
       "      <td>9.0</td>\n",
       "      <td>1682.0</td>\n",
       "      <td>2.5</td>\n",
       "      <td>46.4246376808, -1.60014921643</td>\n",
       "      <td>{\"type\": \"Polygon\", \"coordinates\": [[[-1.56427...</td>\n",
       "    </tr>\n",
       "    <tr>\n",
       "      <th>85127</th>\n",
       "      <td>85560</td>\n",
       "      <td>LONGEVILLE-SUR-MER</td>\n",
       "      <td>VENDEE</td>\n",
       "      <td>PAYS DE LA LOIRE</td>\n",
       "      <td>Commune simple</td>\n",
       "      <td>10.0</td>\n",
       "      <td>3803.0</td>\n",
       "      <td>2.4</td>\n",
       "      <td>46.4091029013, -1.47711855345</td>\n",
       "      <td>{\"type\": \"Polygon\", \"coordinates\": [[[-1.44065...</td>\n",
       "    </tr>\n",
       "    <tr>\n",
       "      <th>85166</th>\n",
       "      <td>85340</td>\n",
       "      <td>OLONNE-SUR-MER</td>\n",
       "      <td>VENDEE</td>\n",
       "      <td>PAYS DE LA LOIRE</td>\n",
       "      <td>Commune simple</td>\n",
       "      <td>12.0</td>\n",
       "      <td>4608.0</td>\n",
       "      <td>13.3</td>\n",
       "      <td>46.5413300559, -1.78813984621</td>\n",
       "      <td>{\"type\": \"Polygon\", \"coordinates\": [[[-1.77321...</td>\n",
       "    </tr>\n",
       "    <tr>\n",
       "      <th>85201</th>\n",
       "      <td>85540</td>\n",
       "      <td>SAINT-BENOIST-SUR-MER</td>\n",
       "      <td>VENDEE</td>\n",
       "      <td>PAYS DE LA LOIRE</td>\n",
       "      <td>Commune simple</td>\n",
       "      <td>9.0</td>\n",
       "      <td>1556.0</td>\n",
       "      <td>0.3</td>\n",
       "      <td>46.4266286403, -1.3399129604</td>\n",
       "      <td>{\"type\": \"Polygon\", \"coordinates\": [[[-1.31773...</td>\n",
       "    </tr>\n",
       "    <tr>\n",
       "      <th>85243</th>\n",
       "      <td>85470</td>\n",
       "      <td>BREM-SUR-MER</td>\n",
       "      <td>VENDEE</td>\n",
       "      <td>PAYS DE LA LOIRE</td>\n",
       "      <td>Commune simple</td>\n",
       "      <td>27.0</td>\n",
       "      <td>1616.0</td>\n",
       "      <td>2.6</td>\n",
       "      <td>46.6118566989, -1.81003917923</td>\n",
       "      <td>{\"type\": \"Polygon\", \"coordinates\": [[[-1.81551...</td>\n",
       "    </tr>\n",
       "    <tr>\n",
       "      <th>85294</th>\n",
       "      <td>85360</td>\n",
       "      <td>LA TRANCHE-SUR-MER</td>\n",
       "      <td>VENDEE</td>\n",
       "      <td>PAYS DE LA LOIRE</td>\n",
       "      <td>Commune simple</td>\n",
       "      <td>5.0</td>\n",
       "      <td>2103.0</td>\n",
       "      <td>2.7</td>\n",
       "      <td>46.3564601605, -1.43136322126</td>\n",
       "      <td>{\"type\": \"Polygon\", \"coordinates\": [[[-1.35516...</td>\n",
       "    </tr>\n",
       "    <tr>\n",
       "      <th>85307</th>\n",
       "      <td>85460</td>\n",
       "      <td>LA FAUTE-SUR-MER</td>\n",
       "      <td>VENDEE</td>\n",
       "      <td>PAYS DE LA LOIRE</td>\n",
       "      <td>Commune simple</td>\n",
       "      <td>4.0</td>\n",
       "      <td>726.0</td>\n",
       "      <td>0.9</td>\n",
       "      <td>46.3199919131, -1.31487049579</td>\n",
       "      <td>{\"type\": \"Polygon\", \"coordinates\": [[[-1.30340...</td>\n",
       "    </tr>\n",
       "  </tbody>\n",
       "</table>\n",
       "<p>100 rows × 10 columns</p>\n",
       "</div>"
      ],
      "text/plain": [
       "           Code Postal                Commune       Département  \\\n",
       "Code INSEE                                                        \n",
       "06011            06310       BEAULIEU-SUR-MER   ALPES-MARITIMES   \n",
       "06027            06800         CAGNES-SUR-MER   ALPES-MARITIMES   \n",
       "06138            06590        THEOULE-SUR-MER   ALPES-MARITIMES   \n",
       "06159            06230   VILLEFRANCHE-SUR-MER   ALPES-MARITIMES   \n",
       "13039            13270            FOS-SUR-MER  BOUCHES-DU-RHONE   \n",
       "14059            14910     BENERVILLE-SUR-MER          CALVADOS   \n",
       "14062            14440           BENY-SUR-MER          CALVADOS   \n",
       "14066            14990      BERNIERES-SUR-MER          CALVADOS   \n",
       "...                ...                    ...               ...   \n",
       "85035            85470   BRETIGNOLLES-SUR-MER            VENDEE   \n",
       "85114            85520           JARD-SUR-MER            VENDEE   \n",
       "85127            85560     LONGEVILLE-SUR-MER            VENDEE   \n",
       "85166            85340         OLONNE-SUR-MER            VENDEE   \n",
       "85201            85540  SAINT-BENOIST-SUR-MER            VENDEE   \n",
       "85243            85470           BREM-SUR-MER            VENDEE   \n",
       "85294            85360     LA TRANCHE-SUR-MER            VENDEE   \n",
       "85307            85460       LA FAUTE-SUR-MER            VENDEE   \n",
       "\n",
       "                                Région            Statut  Altitude Moyenne  \\\n",
       "Code INSEE                                                                   \n",
       "06011       PROVENCE-ALPES-COTE D'AZUR    Commune simple              36.0   \n",
       "06027       PROVENCE-ALPES-COTE D'AZUR  Chef-lieu canton              64.0   \n",
       "06138       PROVENCE-ALPES-COTE D'AZUR    Commune simple             130.0   \n",
       "06159       PROVENCE-ALPES-COTE D'AZUR  Chef-lieu canton             231.0   \n",
       "13039       PROVENCE-ALPES-COTE D'AZUR    Commune simple               5.0   \n",
       "14059                  BASSE-NORMANDIE    Commune simple              45.0   \n",
       "14062                  BASSE-NORMANDIE    Commune simple              51.0   \n",
       "14066                  BASSE-NORMANDIE    Commune simple              22.0   \n",
       "...                                ...               ...               ...   \n",
       "85035                 PAYS DE LA LOIRE    Commune simple              15.0   \n",
       "85114                 PAYS DE LA LOIRE    Commune simple               9.0   \n",
       "85127                 PAYS DE LA LOIRE    Commune simple              10.0   \n",
       "85166                 PAYS DE LA LOIRE    Commune simple              12.0   \n",
       "85201                 PAYS DE LA LOIRE    Commune simple               9.0   \n",
       "85243                 PAYS DE LA LOIRE    Commune simple              27.0   \n",
       "85294                 PAYS DE LA LOIRE    Commune simple               5.0   \n",
       "85307                 PAYS DE LA LOIRE    Commune simple               4.0   \n",
       "\n",
       "            Superficie  Population                    geo_point_2d  \\\n",
       "Code INSEE                                                           \n",
       "06011            108.0         3.7    43.7079039397, 7.33256934881   \n",
       "06027           1821.0        48.0    43.6715162078, 7.15275703379   \n",
       "06138           1072.0         1.6    43.4985345439, 6.92965248383   \n",
       "06159            492.0         5.8    43.7122153121, 7.32225410533   \n",
       "13039           8868.0        15.5    43.4556812107, 4.90452133912   \n",
       "14059            309.0         0.5  49.3390106956, 0.0477938566692   \n",
       "14062            680.0         0.3  49.2906537032, -0.436236066881   \n",
       "14066            766.0         2.4  49.3194698748, -0.417743184424   \n",
       "...                ...         ...                             ...   \n",
       "85035           2733.0         4.1   46.6374826705, -1.86324200464   \n",
       "85114           1682.0         2.5   46.4246376808, -1.60014921643   \n",
       "85127           3803.0         2.4   46.4091029013, -1.47711855345   \n",
       "85166           4608.0        13.3   46.5413300559, -1.78813984621   \n",
       "85201           1556.0         0.3    46.4266286403, -1.3399129604   \n",
       "85243           1616.0         2.6   46.6118566989, -1.81003917923   \n",
       "85294           2103.0         2.7   46.3564601605, -1.43136322126   \n",
       "85307            726.0         0.9   46.3199919131, -1.31487049579   \n",
       "\n",
       "                                                    geo_shape  \n",
       "Code INSEE                                                     \n",
       "06011       {\"type\": \"Polygon\", \"coordinates\": [[[7.326789...  \n",
       "06027       {\"type\": \"Polygon\", \"coordinates\": [[[7.145493...  \n",
       "06138       {\"type\": \"Polygon\", \"coordinates\": [[[6.933726...  \n",
       "06159       {\"type\": \"Polygon\", \"coordinates\": [[[7.308745...  \n",
       "13039       {\"type\": \"Polygon\", \"coordinates\": [[[4.972215...  \n",
       "14059       {\"type\": \"Polygon\", \"coordinates\": [[[0.045946...  \n",
       "14062       {\"type\": \"Polygon\", \"coordinates\": [[[-0.44340...  \n",
       "14066       {\"type\": \"Polygon\", \"coordinates\": [[[-0.41191...  \n",
       "...                                                       ...  \n",
       "85035       {\"type\": \"Polygon\", \"coordinates\": [[[-1.84769...  \n",
       "85114       {\"type\": \"Polygon\", \"coordinates\": [[[-1.56427...  \n",
       "85127       {\"type\": \"Polygon\", \"coordinates\": [[[-1.44065...  \n",
       "85166       {\"type\": \"Polygon\", \"coordinates\": [[[-1.77321...  \n",
       "85201       {\"type\": \"Polygon\", \"coordinates\": [[[-1.31773...  \n",
       "85243       {\"type\": \"Polygon\", \"coordinates\": [[[-1.81551...  \n",
       "85294       {\"type\": \"Polygon\", \"coordinates\": [[[-1.35516...  \n",
       "85307       {\"type\": \"Polygon\", \"coordinates\": [[[-1.30340...  \n",
       "\n",
       "[100 rows x 10 columns]"
      ]
     },
     "execution_count": 52,
     "metadata": {},
     "output_type": "execute_result"
    }
   ],
   "source": [
    "mot1 = \"SUR\"\n",
    "mot2 = \"MER\"\n",
    "df.loc[df[\"Commune\"].str.endswith(f\"{mot1}-{mot2}\")]"
   ]
  },
  {
   "cell_type": "code",
   "execution_count": 53,
   "id": "2f5ac15e-2ec2-4cbb-87af-1453e14229f8",
   "metadata": {},
   "outputs": [],
   "source": [
    "def selection(mot1, mot2):\n",
    "    return df.loc[df[\"Commune\"].str.endswith(f\"{mot1}-{mot2}\")]"
   ]
  },
  {
   "cell_type": "code",
   "execution_count": 54,
   "id": "de8f54eb-4c90-489a-8ad8-56eb01697bf4",
   "metadata": {},
   "outputs": [
    {
     "data": {
      "text/html": [
       "<div>\n",
       "<style scoped>\n",
       "    .dataframe tbody tr th:only-of-type {\n",
       "        vertical-align: middle;\n",
       "    }\n",
       "\n",
       "    .dataframe tbody tr th {\n",
       "        vertical-align: top;\n",
       "    }\n",
       "\n",
       "    .dataframe thead th {\n",
       "        text-align: right;\n",
       "    }\n",
       "</style>\n",
       "<table border=\"1\" class=\"dataframe\">\n",
       "  <thead>\n",
       "    <tr style=\"text-align: right;\">\n",
       "      <th></th>\n",
       "      <th>Code Postal</th>\n",
       "      <th>Commune</th>\n",
       "      <th>Département</th>\n",
       "      <th>Région</th>\n",
       "      <th>Statut</th>\n",
       "      <th>Altitude Moyenne</th>\n",
       "      <th>Superficie</th>\n",
       "      <th>Population</th>\n",
       "      <th>geo_point_2d</th>\n",
       "      <th>geo_shape</th>\n",
       "    </tr>\n",
       "    <tr>\n",
       "      <th>Code INSEE</th>\n",
       "      <th></th>\n",
       "      <th></th>\n",
       "      <th></th>\n",
       "      <th></th>\n",
       "      <th></th>\n",
       "      <th></th>\n",
       "      <th></th>\n",
       "      <th></th>\n",
       "      <th></th>\n",
       "      <th></th>\n",
       "    </tr>\n",
       "  </thead>\n",
       "  <tbody>\n",
       "    <tr>\n",
       "      <th>10136</th>\n",
       "      <td>10110</td>\n",
       "      <td>EGUILLY-SOUS-BOIS</td>\n",
       "      <td>AUBE</td>\n",
       "      <td>CHAMPAGNE-ARDENNE</td>\n",
       "      <td>Commune simple</td>\n",
       "      <td>273.0</td>\n",
       "      <td>1015.0</td>\n",
       "      <td>0.1</td>\n",
       "      <td>48.1388297838, 4.53815136871</td>\n",
       "      <td>{\"type\": \"Polygon\", \"coordinates\": [[[4.562265...</td>\n",
       "    </tr>\n",
       "    <tr>\n",
       "      <th>26335</th>\n",
       "      <td>26770</td>\n",
       "      <td>SALLES-SOUS-BOIS</td>\n",
       "      <td>DROME</td>\n",
       "      <td>RHONE-ALPES</td>\n",
       "      <td>Commune simple</td>\n",
       "      <td>357.0</td>\n",
       "      <td>968.0</td>\n",
       "      <td>0.2</td>\n",
       "      <td>44.4707924508, 4.94008224904</td>\n",
       "      <td>{\"type\": \"Polygon\", \"coordinates\": [[[4.947248...</td>\n",
       "    </tr>\n",
       "    <tr>\n",
       "      <th>57128</th>\n",
       "      <td>57220</td>\n",
       "      <td>CHARLEVILLE-SOUS-BOIS</td>\n",
       "      <td>MOSELLE</td>\n",
       "      <td>LORRAINE</td>\n",
       "      <td>Commune simple</td>\n",
       "      <td>263.0</td>\n",
       "      <td>1278.0</td>\n",
       "      <td>0.3</td>\n",
       "      <td>49.1959515116, 6.4063041025</td>\n",
       "      <td>{\"type\": \"Polygon\", \"coordinates\": [[[6.406500...</td>\n",
       "    </tr>\n",
       "    <tr>\n",
       "      <th>60052</th>\n",
       "      <td>60640</td>\n",
       "      <td>BEAUGIES-SOUS-BOIS</td>\n",
       "      <td>OISE</td>\n",
       "      <td>PICARDIE</td>\n",
       "      <td>Commune simple</td>\n",
       "      <td>104.0</td>\n",
       "      <td>388.0</td>\n",
       "      <td>0.1</td>\n",
       "      <td>49.6372067347, 3.09986657497</td>\n",
       "      <td>{\"type\": \"Polygon\", \"coordinates\": [[[3.096578...</td>\n",
       "    </tr>\n",
       "    <tr>\n",
       "      <th>62762</th>\n",
       "      <td>62650</td>\n",
       "      <td>SAINT-MICHEL-SOUS-BOIS</td>\n",
       "      <td>PAS-DE-CALAIS</td>\n",
       "      <td>NORD-PAS-DE-CALAIS</td>\n",
       "      <td>Commune simple</td>\n",
       "      <td>137.0</td>\n",
       "      <td>567.0</td>\n",
       "      <td>0.1</td>\n",
       "      <td>50.5174881258, 1.93606986972</td>\n",
       "      <td>{\"type\": \"Polygon\", \"coordinates\": [[[1.929739...</td>\n",
       "    </tr>\n",
       "    <tr>\n",
       "      <th>78165</th>\n",
       "      <td>78340</td>\n",
       "      <td>LES CLAYES-SOUS-BOIS</td>\n",
       "      <td>YVELINES</td>\n",
       "      <td>ILE-DE-FRANCE</td>\n",
       "      <td>Commune simple</td>\n",
       "      <td>140.0</td>\n",
       "      <td>609.0</td>\n",
       "      <td>17.5</td>\n",
       "      <td>48.8186406601, 1.9840595554</td>\n",
       "      <td>{\"type\": \"Polygon\", \"coordinates\": [[[1.994386...</td>\n",
       "    </tr>\n",
       "    <tr>\n",
       "      <th>89020</th>\n",
       "      <td>89660</td>\n",
       "      <td>ASNIERES-SOUS-BOIS</td>\n",
       "      <td>YONNE</td>\n",
       "      <td>BOURGOGNE</td>\n",
       "      <td>Commune simple</td>\n",
       "      <td>229.0</td>\n",
       "      <td>1812.0</td>\n",
       "      <td>0.2</td>\n",
       "      <td>47.4789567606, 3.63907394341</td>\n",
       "      <td>{\"type\": \"Polygon\", \"coordinates\": [[[3.628685...</td>\n",
       "    </tr>\n",
       "    <tr>\n",
       "      <th>93005</th>\n",
       "      <td>93600</td>\n",
       "      <td>AULNAY-SOUS-BOIS</td>\n",
       "      <td>SEINE-SAINT-DENIS</td>\n",
       "      <td>ILE-DE-FRANCE</td>\n",
       "      <td>Chef-lieu canton</td>\n",
       "      <td>54.0</td>\n",
       "      <td>1614.0</td>\n",
       "      <td>82.5</td>\n",
       "      <td>48.9458384367, 2.49329041687</td>\n",
       "      <td>{\"type\": \"Polygon\", \"coordinates\": [[[2.491733...</td>\n",
       "    </tr>\n",
       "    <tr>\n",
       "      <th>93014</th>\n",
       "      <td>93390</td>\n",
       "      <td>CLICHY-SOUS-BOIS</td>\n",
       "      <td>SEINE-SAINT-DENIS</td>\n",
       "      <td>ILE-DE-FRANCE</td>\n",
       "      <td>Commune simple</td>\n",
       "      <td>103.0</td>\n",
       "      <td>395.0</td>\n",
       "      <td>30.0</td>\n",
       "      <td>48.9076285106, 2.5462022266</td>\n",
       "      <td>{\"type\": \"Polygon\", \"coordinates\": [[[2.532098...</td>\n",
       "    </tr>\n",
       "    <tr>\n",
       "      <th>93057</th>\n",
       "      <td>93320</td>\n",
       "      <td>LES PAVILLONS-SOUS-BOIS</td>\n",
       "      <td>SEINE-SAINT-DENIS</td>\n",
       "      <td>ILE-DE-FRANCE</td>\n",
       "      <td>Chef-lieu canton</td>\n",
       "      <td>56.0</td>\n",
       "      <td>293.0</td>\n",
       "      <td>21.2</td>\n",
       "      <td>48.9082060253, 2.50297448267</td>\n",
       "      <td>{\"type\": \"Polygon\", \"coordinates\": [[[2.499837...</td>\n",
       "    </tr>\n",
       "    <tr>\n",
       "      <th>93064</th>\n",
       "      <td>93110</td>\n",
       "      <td>ROSNY-SOUS-BOIS</td>\n",
       "      <td>SEINE-SAINT-DENIS</td>\n",
       "      <td>ILE-DE-FRANCE</td>\n",
       "      <td>Chef-lieu canton</td>\n",
       "      <td>78.0</td>\n",
       "      <td>592.0</td>\n",
       "      <td>40.9</td>\n",
       "      <td>48.8745763768, 2.4863404591</td>\n",
       "      <td>{\"type\": \"Polygon\", \"coordinates\": [[[2.496392...</td>\n",
       "    </tr>\n",
       "    <tr>\n",
       "      <th>94033</th>\n",
       "      <td>94120</td>\n",
       "      <td>FONTENAY-SOUS-BOIS</td>\n",
       "      <td>VAL-DE-MARNE</td>\n",
       "      <td>ILE-DE-FRANCE</td>\n",
       "      <td>Chef-lieu canton</td>\n",
       "      <td>77.0</td>\n",
       "      <td>557.0</td>\n",
       "      <td>53.3</td>\n",
       "      <td>48.8511046382, 2.47395409774</td>\n",
       "      <td>{\"type\": \"Polygon\", \"coordinates\": [[[2.467245...</td>\n",
       "    </tr>\n",
       "    <tr>\n",
       "      <th>95316</th>\n",
       "      <td>95850</td>\n",
       "      <td>JAGNY-SOUS-BOIS</td>\n",
       "      <td>VAL-D'OISE</td>\n",
       "      <td>ILE-DE-FRANCE</td>\n",
       "      <td>Commune simple</td>\n",
       "      <td>124.0</td>\n",
       "      <td>425.0</td>\n",
       "      <td>0.3</td>\n",
       "      <td>49.0814278078, 2.44399511411</td>\n",
       "      <td>{\"type\": \"Polygon\", \"coordinates\": [[[2.441771...</td>\n",
       "    </tr>\n",
       "    <tr>\n",
       "      <th>95660</th>\n",
       "      <td>95570</td>\n",
       "      <td>VILLAINES-SOUS-BOIS</td>\n",
       "      <td>VAL-D'OISE</td>\n",
       "      <td>ILE-DE-FRANCE</td>\n",
       "      <td>Commune simple</td>\n",
       "      <td>120.0</td>\n",
       "      <td>190.0</td>\n",
       "      <td>0.7</td>\n",
       "      <td>49.0753739915, 2.35663670214</td>\n",
       "      <td>{\"type\": \"Polygon\", \"coordinates\": [[[2.367251...</td>\n",
       "    </tr>\n",
       "  </tbody>\n",
       "</table>\n",
       "</div>"
      ],
      "text/plain": [
       "           Code Postal                  Commune        Département  \\\n",
       "Code INSEE                                                           \n",
       "10136            10110        EGUILLY-SOUS-BOIS               AUBE   \n",
       "26335            26770         SALLES-SOUS-BOIS              DROME   \n",
       "57128            57220    CHARLEVILLE-SOUS-BOIS            MOSELLE   \n",
       "60052            60640       BEAUGIES-SOUS-BOIS               OISE   \n",
       "62762            62650   SAINT-MICHEL-SOUS-BOIS      PAS-DE-CALAIS   \n",
       "78165            78340     LES CLAYES-SOUS-BOIS           YVELINES   \n",
       "89020            89660       ASNIERES-SOUS-BOIS              YONNE   \n",
       "93005            93600         AULNAY-SOUS-BOIS  SEINE-SAINT-DENIS   \n",
       "93014            93390         CLICHY-SOUS-BOIS  SEINE-SAINT-DENIS   \n",
       "93057            93320  LES PAVILLONS-SOUS-BOIS  SEINE-SAINT-DENIS   \n",
       "93064            93110          ROSNY-SOUS-BOIS  SEINE-SAINT-DENIS   \n",
       "94033            94120       FONTENAY-SOUS-BOIS       VAL-DE-MARNE   \n",
       "95316            95850          JAGNY-SOUS-BOIS         VAL-D'OISE   \n",
       "95660            95570      VILLAINES-SOUS-BOIS         VAL-D'OISE   \n",
       "\n",
       "                        Région            Statut  Altitude Moyenne  \\\n",
       "Code INSEE                                                           \n",
       "10136        CHAMPAGNE-ARDENNE    Commune simple             273.0   \n",
       "26335              RHONE-ALPES    Commune simple             357.0   \n",
       "57128                 LORRAINE    Commune simple             263.0   \n",
       "60052                 PICARDIE    Commune simple             104.0   \n",
       "62762       NORD-PAS-DE-CALAIS    Commune simple             137.0   \n",
       "78165            ILE-DE-FRANCE    Commune simple             140.0   \n",
       "89020                BOURGOGNE    Commune simple             229.0   \n",
       "93005            ILE-DE-FRANCE  Chef-lieu canton              54.0   \n",
       "93014            ILE-DE-FRANCE    Commune simple             103.0   \n",
       "93057            ILE-DE-FRANCE  Chef-lieu canton              56.0   \n",
       "93064            ILE-DE-FRANCE  Chef-lieu canton              78.0   \n",
       "94033            ILE-DE-FRANCE  Chef-lieu canton              77.0   \n",
       "95316            ILE-DE-FRANCE    Commune simple             124.0   \n",
       "95660            ILE-DE-FRANCE    Commune simple             120.0   \n",
       "\n",
       "            Superficie  Population                  geo_point_2d  \\\n",
       "Code INSEE                                                         \n",
       "10136           1015.0         0.1  48.1388297838, 4.53815136871   \n",
       "26335            968.0         0.2  44.4707924508, 4.94008224904   \n",
       "57128           1278.0         0.3   49.1959515116, 6.4063041025   \n",
       "60052            388.0         0.1  49.6372067347, 3.09986657497   \n",
       "62762            567.0         0.1  50.5174881258, 1.93606986972   \n",
       "78165            609.0        17.5   48.8186406601, 1.9840595554   \n",
       "89020           1812.0         0.2  47.4789567606, 3.63907394341   \n",
       "93005           1614.0        82.5  48.9458384367, 2.49329041687   \n",
       "93014            395.0        30.0   48.9076285106, 2.5462022266   \n",
       "93057            293.0        21.2  48.9082060253, 2.50297448267   \n",
       "93064            592.0        40.9   48.8745763768, 2.4863404591   \n",
       "94033            557.0        53.3  48.8511046382, 2.47395409774   \n",
       "95316            425.0         0.3  49.0814278078, 2.44399511411   \n",
       "95660            190.0         0.7  49.0753739915, 2.35663670214   \n",
       "\n",
       "                                                    geo_shape  \n",
       "Code INSEE                                                     \n",
       "10136       {\"type\": \"Polygon\", \"coordinates\": [[[4.562265...  \n",
       "26335       {\"type\": \"Polygon\", \"coordinates\": [[[4.947248...  \n",
       "57128       {\"type\": \"Polygon\", \"coordinates\": [[[6.406500...  \n",
       "60052       {\"type\": \"Polygon\", \"coordinates\": [[[3.096578...  \n",
       "62762       {\"type\": \"Polygon\", \"coordinates\": [[[1.929739...  \n",
       "78165       {\"type\": \"Polygon\", \"coordinates\": [[[1.994386...  \n",
       "89020       {\"type\": \"Polygon\", \"coordinates\": [[[3.628685...  \n",
       "93005       {\"type\": \"Polygon\", \"coordinates\": [[[2.491733...  \n",
       "93014       {\"type\": \"Polygon\", \"coordinates\": [[[2.532098...  \n",
       "93057       {\"type\": \"Polygon\", \"coordinates\": [[[2.499837...  \n",
       "93064       {\"type\": \"Polygon\", \"coordinates\": [[[2.496392...  \n",
       "94033       {\"type\": \"Polygon\", \"coordinates\": [[[2.467245...  \n",
       "95316       {\"type\": \"Polygon\", \"coordinates\": [[[2.441771...  \n",
       "95660       {\"type\": \"Polygon\", \"coordinates\": [[[2.367251...  "
      ]
     },
     "execution_count": 54,
     "metadata": {},
     "output_type": "execute_result"
    }
   ],
   "source": [
    "selection(\"SOUS\", \"BOIS\")"
   ]
  },
  {
   "cell_type": "code",
   "execution_count": 57,
   "id": "e2704106-d664-4b23-8e4d-98f06b39f8cd",
   "metadata": {},
   "outputs": [
    {
     "data": {
      "text/plain": [
       "array(['AZZANA', 'BERGHOLTZZELL', 'COZZANO', 'FOZZANO', 'LINGUIZZETTA',\n",
       "       'LOZZI', 'LUGO-DI-NAZZA', 'MAZZOLA', \"MONACIA-D'OREZZA\",\n",
       "       'PIAZZALI', 'PIAZZOLE', \"PIE-D'OREZZA\", 'POGGIO-DI-NAZZA',\n",
       "       'POGGIO-MEZZANA', 'REZZA', 'STAZZONA', \"VALLE-D'OREZZA\",\n",
       "       'VALLE-DI-MEZZANA', 'VEZZANI'], dtype=object)"
      ]
     },
     "execution_count": 57,
     "metadata": {},
     "output_type": "execute_result"
    }
   ],
   "source": [
    "df.loc[df[\"Commune\"].str.contains(\"ZZ\"), \"Commune\"].sort_values().values"
   ]
  },
  {
   "cell_type": "code",
   "execution_count": 59,
   "id": "c664bac9-dd61-4bd7-ba1b-665f61114e66",
   "metadata": {},
   "outputs": [
    {
     "data": {
      "text/plain": [
       "array(['AZZANA', 'BERGHOLTZZELL', 'COZZANO', 'FOZZANO', 'LINGUIZZETTA',\n",
       "       'LOZZI', 'LUGO-DI-NAZZA', 'MAZZOLA', \"MONACIA-D'OREZZA\",\n",
       "       'PIAZZALI', 'PIAZZOLE', \"PIE-D'OREZZA\", 'POGGIO-DI-NAZZA',\n",
       "       'POGGIO-MEZZANA', 'REZZA', 'STAZZONA', \"VALLE-D'OREZZA\",\n",
       "       'VALLE-DI-MEZZANA', 'VEZZANI'], dtype=object)"
      ]
     },
     "execution_count": 59,
     "metadata": {},
     "output_type": "execute_result"
    }
   ],
   "source": [
    "var = df.loc[df[\"Commune\"].str.contains(\"ZZ\"), \"Commune\"].values\n",
    "var.sort()\n",
    "var"
   ]
  },
  {
   "cell_type": "code",
   "execution_count": 60,
   "id": "9d72e0bd-7d12-4e4d-b659-61e4fa24f147",
   "metadata": {},
   "outputs": [
    {
     "data": {
      "text/plain": [
       "array(['DEZIZE-LES-MARANGES', 'VEZEZOUX', 'ZOZA'], dtype=object)"
      ]
     },
     "execution_count": 60,
     "metadata": {},
     "output_type": "execute_result"
    }
   ],
   "source": [
    "df.loc[df[\"Commune\"].str.contains(\"Z.Z\"), \"Commune\"].sort_values().values"
   ]
  },
  {
   "cell_type": "code",
   "execution_count": 61,
   "id": "931cc6a5-c30e-407e-8550-bfe7d597363e",
   "metadata": {},
   "outputs": [
    {
     "data": {
      "text/plain": [
       "array(['CIREY-SUR-VEZOUZE', 'DOMEVRE-SUR-VEZOUZE', 'GEZ-EZ-ANGLES',\n",
       "       'INZINZAC-LOCHRIST', 'OBERMODERN-ZUTZENDORF', 'ZONZA'],\n",
       "      dtype=object)"
      ]
     },
     "execution_count": 61,
     "metadata": {},
     "output_type": "execute_result"
    }
   ],
   "source": [
    "df.loc[df[\"Commune\"].str.contains(\"Z..Z\"), \"Commune\"].sort_values().values"
   ]
  },
  {
   "cell_type": "code",
   "execution_count": 62,
   "id": "d8aa5cfb-ff18-4832-9191-c7137093cc91",
   "metadata": {},
   "outputs": [
    {
     "data": {
      "text/plain": [
       "array(['ALLEZ-ET-CAZENEUVE', 'ARCIZAC-EZ-ANGLES', 'ARZACQ-ARRAZIGUET',\n",
       "       'AZANNES-ET-SOUMAZANNES', 'AZILONE-AMPAZA', 'AZZANA',\n",
       "       'BAZOCHES-SUR-LE-BETZ', 'BELVEZE-DU-RAZES', 'BERGHOLTZZELL',\n",
       "       'BEUZEC-CAP-SIZUN', 'CAZOULS-LES-BEZIERS', \"CHAZAY-D'AZERGUES\",\n",
       "       'CIREY-SUR-VEZOUZE', 'COZZANO', 'DAUMAZAN-SUR-ARIZE',\n",
       "       'DEZIZE-LES-MARANGES', 'DOMEVRE-SUR-VEZOUZE', 'DZAOUDZI',\n",
       "       'ERIZE-SAINT-DIZIER', 'FLEZ-CUZY', 'FOZZANO', 'GEZ-EZ-ANGLES',\n",
       "       'GOUZANGREZ', 'INZINZAC-LOCHRIST', \"JUZET-D'IZAUT\",\n",
       "       'LEZAT-SUR-LEZE', 'LIMETZ-VILLEZ', 'LINGUIZZETTA', 'LOZZI',\n",
       "       'LUGO-DI-NAZZA', 'MAIZIERES-LES-METZ', 'MAZERAT-AUROUZE',\n",
       "       'MAZERES-LEZONS', 'MAZEROLLES-DU-RAZES', 'MAZZOLA',\n",
       "       'MEZIERES-LEZ-CLERY', \"MONACIA-D'OREZZA\", 'MONTPEZAT-SOUS-BAUZON',\n",
       "       'OBERMODERN-ZUTZENDORF', 'OUZOUER-SUR-TREZEE', 'PIAZZALI',\n",
       "       'PIAZZOLE', \"PIE-D'OREZZA\", 'PLONEVEZ-PORZAY', 'POGGIO-DI-NAZZA',\n",
       "       'POGGIO-MEZZANA', 'REZZA', 'ROZIER-EN-DONZY',\n",
       "       'ROZIERES-SUR-MOUZON', 'SAINT-NAZAIRE-DE-LADAREZ',\n",
       "       'SAINT-NAZAIRE-DE-PEZAN', \"SAINT-NIZIER-D'AZERGUES\", 'STAZZONA',\n",
       "       'TAIZE-AIZIE', 'THEZAN-LES-BEZIERS', 'TOURZEL-RONZIERES',\n",
       "       \"VALLE-D'OREZZA\", 'VALLE-DI-MEZZANA', 'VEZEZOUX',\n",
       "       'VEZINS-DE-LEVEZOU', 'VEZZANI', 'VILLARZEL-DU-RAZES',\n",
       "       'VIUZ-EN-SALLAZ', 'VIUZ-LA-CHIESAZ', 'ZERMEZEELE', 'ZONZA', 'ZOZA'],\n",
       "      dtype=object)"
      ]
     },
     "execution_count": 62,
     "metadata": {},
     "output_type": "execute_result"
    }
   ],
   "source": [
    "df.loc[df[\"Commune\"].str.contains(\"Z.*Z\"), \"Commune\"].sort_values().values"
   ]
  },
  {
   "cell_type": "code",
   "execution_count": 63,
   "id": "24bd63ec-c3ae-428e-92ee-e9a723fb3502",
   "metadata": {},
   "outputs": [
    {
     "data": {
      "text/plain": [
       "array(['ALLEZ-ET-CAZENEUVE', 'ARCIZAC-EZ-ANGLES', 'ARZACQ-ARRAZIGUET',\n",
       "       'AZANNES-ET-SOUMAZANNES', 'AZILONE-AMPAZA', 'BAZOCHES-SUR-LE-BETZ',\n",
       "       'BELVEZE-DU-RAZES', 'BEUZEC-CAP-SIZUN', 'CAZOULS-LES-BEZIERS',\n",
       "       \"CHAZAY-D'AZERGUES\", 'CIREY-SUR-VEZOUZE', 'DAUMAZAN-SUR-ARIZE',\n",
       "       'DEZIZE-LES-MARANGES', 'DOMEVRE-SUR-VEZOUZE', 'DZAOUDZI',\n",
       "       'ERIZE-SAINT-DIZIER', 'FLEZ-CUZY', 'GEZ-EZ-ANGLES', 'GOUZANGREZ',\n",
       "       'INZINZAC-LOCHRIST', \"JUZET-D'IZAUT\", 'LEZAT-SUR-LEZE',\n",
       "       'LIMETZ-VILLEZ', 'MAIZIERES-LES-METZ', 'MAZERAT-AUROUZE',\n",
       "       'MAZERES-LEZONS', 'MAZEROLLES-DU-RAZES', 'MEZIERES-LEZ-CLERY',\n",
       "       'MONTPEZAT-SOUS-BAUZON', 'OBERMODERN-ZUTZENDORF',\n",
       "       'OUZOUER-SUR-TREZEE', 'PLONEVEZ-PORZAY', 'ROZIER-EN-DONZY',\n",
       "       'ROZIERES-SUR-MOUZON', 'SAINT-NAZAIRE-DE-LADAREZ',\n",
       "       'SAINT-NAZAIRE-DE-PEZAN', \"SAINT-NIZIER-D'AZERGUES\", 'TAIZE-AIZIE',\n",
       "       'THEZAN-LES-BEZIERS', 'TOURZEL-RONZIERES', 'VEZEZOUX',\n",
       "       'VEZINS-DE-LEVEZOU', 'VILLARZEL-DU-RAZES', 'VIUZ-EN-SALLAZ',\n",
       "       'VIUZ-LA-CHIESAZ', 'ZERMEZEELE', 'ZONZA', 'ZOZA'], dtype=object)"
      ]
     },
     "execution_count": 63,
     "metadata": {},
     "output_type": "execute_result"
    }
   ],
   "source": [
    "df.loc[df[\"Commune\"].str.contains(\"Z.+Z\"), \"Commune\"].sort_values().values"
   ]
  },
  {
   "cell_type": "code",
   "execution_count": 65,
   "id": "9fe84913-7b84-4c1b-ba22-ec4013ccafc7",
   "metadata": {},
   "outputs": [
    {
     "data": {
      "text/plain": [
       "Code INSEE\n",
       "01001    L'A\n",
       "01002    L'A\n",
       "01004    AMB\n",
       "01005    AMB\n",
       "01006    AMB\n",
       "01007    AMB\n",
       "01008    AMB\n",
       "01009    AND\n",
       "        ... \n",
       "97610    KOU\n",
       "97611    MAM\n",
       "97612    MTS\n",
       "97613    M'T\n",
       "97614    OUA\n",
       "97615    PAM\n",
       "97616    SAD\n",
       "97617    TSI\n",
       "Name: Commune, Length: 36742, dtype: object"
      ]
     },
     "execution_count": 65,
     "metadata": {},
     "output_type": "execute_result"
    }
   ],
   "source": [
    "df[\"Commune\"].str[:3]"
   ]
  },
  {
   "cell_type": "code",
   "execution_count": 69,
   "id": "e30efffe-586e-4812-9089-6cdc1b882837",
   "metadata": {},
   "outputs": [
    {
     "data": {
      "text/plain": [
       "Code INSEE\n",
       "01001    [L'ABERGEMENT, CLEMENCIAT]\n",
       "01002                   [DE, VAREY]\n",
       "01004                   [EN, BUGEY]\n",
       "01005                  [EN, DOMBES]\n",
       "01006                     [AMBLEON]\n",
       "01007                    [AMBRONAY]\n",
       "01008                    [AMBUTRIX]\n",
       "01009                  [ET, CONDON]\n",
       "                    ...            \n",
       "97610                     [KOUNGOU]\n",
       "97611                   [MAMOUDZOU]\n",
       "97612                   [MTSAMBORO]\n",
       "97613               [M'TSANGAMOUJI]\n",
       "97614                    [OUANGANI]\n",
       "97615                    [PAMANDZI]\n",
       "97616                        [SADA]\n",
       "97617                    [TSINGONI]\n",
       "Name: Commune, Length: 36742, dtype: object"
      ]
     },
     "execution_count": 69,
     "metadata": {},
     "output_type": "execute_result"
    }
   ],
   "source": [
    "df[\"Commune\"].str.split(\"-\").str[-2:]"
   ]
  },
  {
   "cell_type": "code",
   "execution_count": 75,
   "id": "eee07022-c1fb-423a-b62a-e7c53272e8d6",
   "metadata": {},
   "outputs": [
    {
     "data": {
      "text/plain": [
       "-SUR-MER         88\n",
       "-SUR-SEINE       67\n",
       "-SUR-MARNE       55\n",
       "-LES-BAINS       53\n",
       "-LE-CHATEAU      52\n",
       "-SUR-LOIRE       52\n",
       "-LE-SEC          45\n",
       "-LE-GRAND        43\n",
       "-SUR-MEUSE       42\n",
       "-SAINT-MARTIN    41\n",
       "Name: Commune, dtype: int64"
      ]
     },
     "execution_count": 75,
     "metadata": {},
     "output_type": "execute_result"
    }
   ],
   "source": [
    "(df[\"Commune\"]\n",
    " .str\n",
    " .extract(\"(-.*-.*)$\", expand=False)\n",
    " .dropna()\n",
    " .value_counts()\n",
    " .head(10)\n",
    ")"
   ]
  },
  {
   "cell_type": "code",
   "execution_count": 84,
   "id": "d32e7420-9460-4556-9e22-61f15aa6f7e2",
   "metadata": {},
   "outputs": [
    {
     "data": {
      "text/html": [
       "<div>\n",
       "<style scoped>\n",
       "    .dataframe tbody tr th:only-of-type {\n",
       "        vertical-align: middle;\n",
       "    }\n",
       "\n",
       "    .dataframe tbody tr th {\n",
       "        vertical-align: top;\n",
       "    }\n",
       "\n",
       "    .dataframe thead th {\n",
       "        text-align: right;\n",
       "    }\n",
       "</style>\n",
       "<table border=\"1\" class=\"dataframe\">\n",
       "  <thead>\n",
       "    <tr style=\"text-align: right;\">\n",
       "      <th></th>\n",
       "      <th>0</th>\n",
       "      <th>1</th>\n",
       "    </tr>\n",
       "    <tr>\n",
       "      <th>Code INSEE</th>\n",
       "      <th></th>\n",
       "      <th></th>\n",
       "    </tr>\n",
       "  </thead>\n",
       "  <tbody>\n",
       "    <tr>\n",
       "      <th>01001</th>\n",
       "      <td>L'ABERGEMENT</td>\n",
       "      <td>CLEMENCIAT</td>\n",
       "    </tr>\n",
       "    <tr>\n",
       "      <th>01002</th>\n",
       "      <td>L'ABERGEMENT-DE</td>\n",
       "      <td>VAREY</td>\n",
       "    </tr>\n",
       "    <tr>\n",
       "      <th>01004</th>\n",
       "      <td>AMBERIEU-EN</td>\n",
       "      <td>BUGEY</td>\n",
       "    </tr>\n",
       "    <tr>\n",
       "      <th>01005</th>\n",
       "      <td>AMBERIEUX-EN</td>\n",
       "      <td>DOMBES</td>\n",
       "    </tr>\n",
       "    <tr>\n",
       "      <th>01009</th>\n",
       "      <td>ANDERT-ET</td>\n",
       "      <td>CONDON</td>\n",
       "    </tr>\n",
       "    <tr>\n",
       "      <th>01021</th>\n",
       "      <td>ARS-SUR</td>\n",
       "      <td>FORMANS</td>\n",
       "    </tr>\n",
       "    <tr>\n",
       "      <th>01023</th>\n",
       "      <td>ASNIERES-SUR</td>\n",
       "      <td>SAONE</td>\n",
       "    </tr>\n",
       "    <tr>\n",
       "      <th>01025</th>\n",
       "      <td>BAGE-LA</td>\n",
       "      <td>VILLE</td>\n",
       "    </tr>\n",
       "    <tr>\n",
       "      <th>...</th>\n",
       "      <td>...</td>\n",
       "      <td>...</td>\n",
       "    </tr>\n",
       "    <tr>\n",
       "      <th>97415</th>\n",
       "      <td>SAINT</td>\n",
       "      <td>PAUL</td>\n",
       "    </tr>\n",
       "    <tr>\n",
       "      <th>97416</th>\n",
       "      <td>SAINT</td>\n",
       "      <td>PIERRE</td>\n",
       "    </tr>\n",
       "    <tr>\n",
       "      <th>97417</th>\n",
       "      <td>SAINT</td>\n",
       "      <td>PHILIPPE</td>\n",
       "    </tr>\n",
       "    <tr>\n",
       "      <th>97418</th>\n",
       "      <td>SAINTE</td>\n",
       "      <td>MARIE</td>\n",
       "    </tr>\n",
       "    <tr>\n",
       "      <th>97419</th>\n",
       "      <td>SAINTE</td>\n",
       "      <td>ROSE</td>\n",
       "    </tr>\n",
       "    <tr>\n",
       "      <th>97420</th>\n",
       "      <td>SAINTE</td>\n",
       "      <td>SUZANNE</td>\n",
       "    </tr>\n",
       "    <tr>\n",
       "      <th>97423</th>\n",
       "      <td>LES TROIS</td>\n",
       "      <td>BASSINS</td>\n",
       "    </tr>\n",
       "    <tr>\n",
       "      <th>97609</th>\n",
       "      <td>KANI</td>\n",
       "      <td>KELI</td>\n",
       "    </tr>\n",
       "  </tbody>\n",
       "</table>\n",
       "<p>14062 rows × 2 columns</p>\n",
       "</div>"
      ],
      "text/plain": [
       "                          0           1\n",
       "Code INSEE                             \n",
       "01001          L'ABERGEMENT  CLEMENCIAT\n",
       "01002       L'ABERGEMENT-DE       VAREY\n",
       "01004           AMBERIEU-EN       BUGEY\n",
       "01005          AMBERIEUX-EN      DOMBES\n",
       "01009             ANDERT-ET      CONDON\n",
       "01021               ARS-SUR     FORMANS\n",
       "01023          ASNIERES-SUR       SAONE\n",
       "01025               BAGE-LA       VILLE\n",
       "...                     ...         ...\n",
       "97415                 SAINT        PAUL\n",
       "97416                 SAINT      PIERRE\n",
       "97417                 SAINT    PHILIPPE\n",
       "97418                SAINTE       MARIE\n",
       "97419                SAINTE        ROSE\n",
       "97420                SAINTE     SUZANNE\n",
       "97423             LES TROIS     BASSINS\n",
       "97609                  KANI        KELI\n",
       "\n",
       "[14062 rows x 2 columns]"
      ]
     },
     "execution_count": 84,
     "metadata": {},
     "output_type": "execute_result"
    }
   ],
   "source": [
    "(df[\"Commune\"]\n",
    " .str\n",
    " .extract(\"(.*)-(.*)$\")\n",
    " .dropna()\n",
    ")"
   ]
  },
  {
   "cell_type": "code",
   "execution_count": 76,
   "id": "8df8ca07-a107-4a1b-9a1f-82e04c64fc88",
   "metadata": {},
   "outputs": [
    {
     "data": {
      "text/plain": [
       "'\\t'"
      ]
     },
     "execution_count": 76,
     "metadata": {},
     "output_type": "execute_result"
    }
   ],
   "source": [
    "\"\\t\""
   ]
  },
  {
   "cell_type": "code",
   "execution_count": 77,
   "id": "862b7ddd-debb-4191-9c12-8072faf35c5f",
   "metadata": {},
   "outputs": [
    {
     "data": {
      "text/plain": [
       "'\\\\t'"
      ]
     },
     "execution_count": 77,
     "metadata": {},
     "output_type": "execute_result"
    }
   ],
   "source": [
    "r\"\\t\""
   ]
  },
  {
   "cell_type": "code",
   "execution_count": 86,
   "id": "94e025c3-a31f-4f2c-81ac-cf7aac78ce6e",
   "metadata": {},
   "outputs": [
    {
     "data": {
      "text/html": [
       "<div>\n",
       "<style scoped>\n",
       "    .dataframe tbody tr th:only-of-type {\n",
       "        vertical-align: middle;\n",
       "    }\n",
       "\n",
       "    .dataframe tbody tr th {\n",
       "        vertical-align: top;\n",
       "    }\n",
       "\n",
       "    .dataframe thead th {\n",
       "        text-align: right;\n",
       "    }\n",
       "</style>\n",
       "<table border=\"1\" class=\"dataframe\">\n",
       "  <thead>\n",
       "    <tr style=\"text-align: right;\">\n",
       "      <th>Code INSEE</th>\n",
       "      <th>01001</th>\n",
       "    </tr>\n",
       "  </thead>\n",
       "  <tbody>\n",
       "    <tr>\n",
       "      <th>Code Postal</th>\n",
       "      <td>01400</td>\n",
       "    </tr>\n",
       "    <tr>\n",
       "      <th>Commune</th>\n",
       "      <td>L'ABERGEMENT-CLEMENCIAT</td>\n",
       "    </tr>\n",
       "    <tr>\n",
       "      <th>Département</th>\n",
       "      <td>AIN</td>\n",
       "    </tr>\n",
       "    <tr>\n",
       "      <th>Région</th>\n",
       "      <td>RHONE-ALPES</td>\n",
       "    </tr>\n",
       "    <tr>\n",
       "      <th>Statut</th>\n",
       "      <td>Commune simple</td>\n",
       "    </tr>\n",
       "    <tr>\n",
       "      <th>Altitude Moyenne</th>\n",
       "      <td>242</td>\n",
       "    </tr>\n",
       "    <tr>\n",
       "      <th>Superficie</th>\n",
       "      <td>15.65</td>\n",
       "    </tr>\n",
       "    <tr>\n",
       "      <th>Population</th>\n",
       "      <td>0.8</td>\n",
       "    </tr>\n",
       "    <tr>\n",
       "      <th>geo_point_2d</th>\n",
       "      <td>46.1534255214, 4.92611354223</td>\n",
       "    </tr>\n",
       "    <tr>\n",
       "      <th>geo_shape</th>\n",
       "      <td>{\"type\": \"Polygon\", \"coordinates\": [[[4.926273...</td>\n",
       "    </tr>\n",
       "  </tbody>\n",
       "</table>\n",
       "</div>"
      ],
      "text/plain": [
       "Code INSEE                                                    01001\n",
       "Code Postal                                                   01400\n",
       "Commune                                     L'ABERGEMENT-CLEMENCIAT\n",
       "Département                                                     AIN\n",
       "Région                                                  RHONE-ALPES\n",
       "Statut                                               Commune simple\n",
       "Altitude Moyenne                                                242\n",
       "Superficie                                                    15.65\n",
       "Population                                                      0.8\n",
       "geo_point_2d                           46.1534255214, 4.92611354223\n",
       "geo_shape         {\"type\": \"Polygon\", \"coordinates\": [[[4.926273..."
      ]
     },
     "execution_count": 86,
     "metadata": {},
     "output_type": "execute_result"
    }
   ],
   "source": [
    "df[\"Superficie\"] /= 100\n",
    "df[\"Altitude Moyenne\"] = df[\"Altitude Moyenne\"].astype(int)\n",
    "df.head(1).T"
   ]
  },
  {
   "cell_type": "code",
   "execution_count": 88,
   "id": "b8474f8f-0f8e-4252-8583-1f4a144cf5cc",
   "metadata": {},
   "outputs": [
    {
     "data": {
      "text/plain": [
       "array(['Commune simple', 'Chef-lieu canton', 'Sous-préfecture',\n",
       "       'Préfecture', 'Préfecture de région', \"Capitale d'état\"],\n",
       "      dtype=object)"
      ]
     },
     "execution_count": 88,
     "metadata": {},
     "output_type": "execute_result"
    }
   ],
   "source": [
    "df[\"Statut\"].unique()"
   ]
  },
  {
   "cell_type": "code",
   "execution_count": 89,
   "id": "3bfe407f-71b4-416a-9553-f23942bf2a1d",
   "metadata": {},
   "outputs": [
    {
     "name": "stdout",
     "output_type": "stream",
     "text": [
      "<class 'pandas.core.frame.DataFrame'>\n",
      "Index: 36742 entries, 01001 to 97617\n",
      "Data columns (total 10 columns):\n",
      " #   Column            Non-Null Count  Dtype  \n",
      "---  ------            --------------  -----  \n",
      " 0   Code Postal       36742 non-null  object \n",
      " 1   Commune           36742 non-null  object \n",
      " 2   Département       36742 non-null  object \n",
      " 3   Région            36742 non-null  object \n",
      " 4   Statut            36742 non-null  object \n",
      " 5   Altitude Moyenne  36742 non-null  int32  \n",
      " 6   Superficie        36742 non-null  float64\n",
      " 7   Population        36742 non-null  float64\n",
      " 8   geo_point_2d      36742 non-null  object \n",
      " 9   geo_shape         36742 non-null  object \n",
      "dtypes: float64(2), int32(1), object(7)\n",
      "memory usage: 4.0+ MB\n"
     ]
    }
   ],
   "source": [
    "df.info()"
   ]
  },
  {
   "cell_type": "code",
   "execution_count": 92,
   "id": "8297d342-6fd9-4e79-b7f5-13d8941e7b41",
   "metadata": {},
   "outputs": [
    {
     "name": "stdout",
     "output_type": "stream",
     "text": [
      "<class 'pandas.core.frame.DataFrame'>\n",
      "Index: 36742 entries, 01001 to 97617\n",
      "Data columns (total 10 columns):\n",
      " #   Column            Non-Null Count  Dtype   \n",
      "---  ------            --------------  -----   \n",
      " 0   Code Postal       36742 non-null  object  \n",
      " 1   Commune           36742 non-null  object  \n",
      " 2   Département       36742 non-null  object  \n",
      " 3   Région            36742 non-null  object  \n",
      " 4   Statut            36742 non-null  category\n",
      " 5   Altitude Moyenne  36742 non-null  int32   \n",
      " 6   Superficie        36742 non-null  float64 \n",
      " 7   Population        36742 non-null  float64 \n",
      " 8   geo_point_2d      36742 non-null  object  \n",
      " 9   geo_shape         36742 non-null  object  \n",
      "dtypes: category(1), float64(2), int32(1), object(6)\n",
      "memory usage: 3.7+ MB\n"
     ]
    }
   ],
   "source": [
    "cat_statut = pd.CategoricalDtype(categories=['Commune simple', 'Chef-lieu canton', 'Sous-préfecture', 'Préfecture', 'Préfecture de région', \"Capitale d'état\"],\n",
    "                                 ordered=True)\n",
    "df[\"Statut\"] = df[\"Statut\"].astype(cat_statut)\n",
    "df.info()"
   ]
  },
  {
   "cell_type": "code",
   "execution_count": 95,
   "id": "4e7959ec-804b-452f-b6d3-45b2162e4d6a",
   "metadata": {},
   "outputs": [
    {
     "data": {
      "text/plain": [
       "Code INSEE\n",
       "01001    0\n",
       "01002    0\n",
       "01004    1\n",
       "01005    0\n",
       "01006    0\n",
       "01007    0\n",
       "01008    0\n",
       "01009    0\n",
       "        ..\n",
       "97610    1\n",
       "97611    2\n",
       "97612    1\n",
       "97613    1\n",
       "97614    1\n",
       "97615    1\n",
       "97616    1\n",
       "97617    1\n",
       "Length: 36742, dtype: int8"
      ]
     },
     "execution_count": 95,
     "metadata": {},
     "output_type": "execute_result"
    }
   ],
   "source": [
    "df[\"Statut\"].cat.codes"
   ]
  },
  {
   "cell_type": "code",
   "execution_count": 97,
   "id": "791da75c-b1c4-45ab-ae2d-5ecf10ce7047",
   "metadata": {},
   "outputs": [
    {
     "name": "stdout",
     "output_type": "stream",
     "text": [
      "<class 'pandas.core.frame.DataFrame'>\n",
      "Index: 36742 entries, 01001 to 97617\n",
      "Data columns (total 11 columns):\n",
      " #   Column            Non-Null Count  Dtype   \n",
      "---  ------            --------------  -----   \n",
      " 0   Code Postal       36742 non-null  object  \n",
      " 1   Commune           36742 non-null  object  \n",
      " 2   Département       36742 non-null  object  \n",
      " 3   Région            36742 non-null  object  \n",
      " 4   Statut            36742 non-null  category\n",
      " 5   Altitude Moyenne  36742 non-null  int32   \n",
      " 6   Superficie        36742 non-null  float64 \n",
      " 7   Population        36742 non-null  float64 \n",
      " 8   geo_point_2d      36742 non-null  object  \n",
      " 9   geo_shape         36742 non-null  object  \n",
      " 10  Densité           36742 non-null  float64 \n",
      "dtypes: category(1), float64(3), int32(1), object(6)\n",
      "memory usage: 4.0+ MB\n"
     ]
    }
   ],
   "source": [
    "df[\"Densité\"] = df[\"Population\"] / df[\"Superficie\"]\n",
    "df.info()"
   ]
  },
  {
   "cell_type": "code",
   "execution_count": 100,
   "id": "288ef513-b99a-41c2-ae96-9c24d8bac4d5",
   "metadata": {},
   "outputs": [
    {
     "name": "stdout",
     "output_type": "stream",
     "text": [
      "CPU times: total: 31.2 ms\n",
      "Wall time: 20.7 ms\n"
     ]
    }
   ],
   "source": [
    "%%time\n",
    "df[\"CP Ville\"] = df[\"Code Postal\"] + \" \" + df[\"Commune\"]"
   ]
  },
  {
   "cell_type": "code",
   "execution_count": 101,
   "id": "82559722-8a9c-421e-8777-1cb98e89b7ea",
   "metadata": {},
   "outputs": [
    {
     "name": "stdout",
     "output_type": "stream",
     "text": [
      "CPU times: total: 906 ms\n",
      "Wall time: 941 ms\n"
     ]
    },
    {
     "data": {
      "text/plain": [
       "Code INSEE\n",
       "01001    01400 L'ABERGEMENT-CLEMENCIAT\n",
       "01002      01640 L'ABERGEMENT-DE-VAREY\n",
       "01004          01500 AMBERIEU-EN-BUGEY\n",
       "01005        01330 AMBERIEUX-EN-DOMBES\n",
       "01006                    01300 AMBLEON\n",
       "01007                   01500 AMBRONAY\n",
       "01008                   01500 AMBUTRIX\n",
       "01009           01300 ANDERT-ET-CONDON\n",
       "                     ...              \n",
       "97610                    97600 KOUNGOU\n",
       "97611                  97600 MAMOUDZOU\n",
       "97612                  97630 MTSAMBORO\n",
       "97613              97650 M'TSANGAMOUJI\n",
       "97614                   97670 OUANGANI\n",
       "97615                   97610 PAMANDZI\n",
       "97616                       97640 SADA\n",
       "97617                   97680 TSINGONI\n",
       "Length: 36742, dtype: object"
      ]
     },
     "execution_count": 101,
     "metadata": {},
     "output_type": "execute_result"
    }
   ],
   "source": [
    "%%time\n",
    "df[\"Code Postal\"].combine(df[\"Commune\"], lambda x, y: f\"{x} {y}\")"
   ]
  },
  {
   "cell_type": "code",
   "execution_count": 103,
   "id": "61dcfb27-159a-47be-81c8-05e65ab91ab6",
   "metadata": {},
   "outputs": [
    {
     "data": {
      "text/plain": [
       "'46.1534255214, 4.92611354223'"
      ]
     },
     "execution_count": 103,
     "metadata": {},
     "output_type": "execute_result"
    }
   ],
   "source": [
    "df[\"geo_point_2d\"][0]"
   ]
  },
  {
   "cell_type": "code",
   "execution_count": 108,
   "id": "f41714df-9a02-4e2f-be67-1ff0f2ec9633",
   "metadata": {},
   "outputs": [],
   "source": [
    "df[\"Latitude\"] = df[\"geo_point_2d\"].str.split(\", \").str[0].astype(float)\n",
    "df[\"Longitude\"] = df[\"geo_point_2d\"].str.split(\", \").str[1].astype(float)"
   ]
  },
  {
   "cell_type": "code",
   "execution_count": 111,
   "id": "1a3fd964-d7b9-4755-8f8e-a18f9e932622",
   "metadata": {},
   "outputs": [],
   "source": [
    "df[[\"Latitude\", \"Longitude\"]] = df[\"geo_point_2d\"].str.extract(\"(.*), (.*)\").astype(float)"
   ]
  },
  {
   "cell_type": "code",
   "execution_count": 116,
   "id": "049fbd90-a12b-4425-846c-c42f3b787c21",
   "metadata": {},
   "outputs": [
    {
     "data": {
      "text/html": [
       "<div>\n",
       "<style scoped>\n",
       "    .dataframe tbody tr th:only-of-type {\n",
       "        vertical-align: middle;\n",
       "    }\n",
       "\n",
       "    .dataframe tbody tr th {\n",
       "        vertical-align: top;\n",
       "    }\n",
       "\n",
       "    .dataframe thead th {\n",
       "        text-align: right;\n",
       "    }\n",
       "</style>\n",
       "<table border=\"1\" class=\"dataframe\">\n",
       "  <thead>\n",
       "    <tr style=\"text-align: right;\">\n",
       "      <th></th>\n",
       "      <th>0</th>\n",
       "      <th>1</th>\n",
       "      <th>2</th>\n",
       "      <th>3</th>\n",
       "    </tr>\n",
       "    <tr>\n",
       "      <th>Code INSEE</th>\n",
       "      <th></th>\n",
       "      <th></th>\n",
       "      <th></th>\n",
       "      <th></th>\n",
       "    </tr>\n",
       "  </thead>\n",
       "  <tbody>\n",
       "    <tr>\n",
       "      <th>01001</th>\n",
       "      <td>46</td>\n",
       "      <td>1534255214</td>\n",
       "      <td>4</td>\n",
       "      <td>92611354223</td>\n",
       "    </tr>\n",
       "    <tr>\n",
       "      <th>01002</th>\n",
       "      <td>46</td>\n",
       "      <td>0091878776</td>\n",
       "      <td>5</td>\n",
       "      <td>42801696363</td>\n",
       "    </tr>\n",
       "    <tr>\n",
       "      <th>01004</th>\n",
       "      <td>45</td>\n",
       "      <td>9608475114</td>\n",
       "      <td>5</td>\n",
       "      <td>3729257777</td>\n",
       "    </tr>\n",
       "    <tr>\n",
       "      <th>01005</th>\n",
       "      <td>45</td>\n",
       "      <td>9961799872</td>\n",
       "      <td>4</td>\n",
       "      <td>91227250796</td>\n",
       "    </tr>\n",
       "    <tr>\n",
       "      <th>01006</th>\n",
       "      <td>45</td>\n",
       "      <td>7494989044</td>\n",
       "      <td>5</td>\n",
       "      <td>59432017366</td>\n",
       "    </tr>\n",
       "    <tr>\n",
       "      <th>01007</th>\n",
       "      <td>46</td>\n",
       "      <td>0055913782</td>\n",
       "      <td>5</td>\n",
       "      <td>35760660735</td>\n",
       "    </tr>\n",
       "    <tr>\n",
       "      <th>01008</th>\n",
       "      <td>45</td>\n",
       "      <td>9367134524</td>\n",
       "      <td>5</td>\n",
       "      <td>3328092349</td>\n",
       "    </tr>\n",
       "    <tr>\n",
       "      <th>01009</th>\n",
       "      <td>45</td>\n",
       "      <td>7873565333</td>\n",
       "      <td>5</td>\n",
       "      <td>65788307924</td>\n",
       "    </tr>\n",
       "    <tr>\n",
       "      <th>...</th>\n",
       "      <td>...</td>\n",
       "      <td>...</td>\n",
       "      <td>...</td>\n",
       "      <td>...</td>\n",
       "    </tr>\n",
       "    <tr>\n",
       "      <th>97610</th>\n",
       "      <td>-12</td>\n",
       "      <td>7465604467</td>\n",
       "      <td>45</td>\n",
       "      <td>1869991913</td>\n",
       "    </tr>\n",
       "    <tr>\n",
       "      <th>97611</th>\n",
       "      <td>-12</td>\n",
       "      <td>7899979586</td>\n",
       "      <td>45</td>\n",
       "      <td>1932456026</td>\n",
       "    </tr>\n",
       "    <tr>\n",
       "      <th>97612</th>\n",
       "      <td>-12</td>\n",
       "      <td>6875073612</td>\n",
       "      <td>45</td>\n",
       "      <td>0736802335</td>\n",
       "    </tr>\n",
       "    <tr>\n",
       "      <th>97613</th>\n",
       "      <td>-12</td>\n",
       "      <td>7513099309</td>\n",
       "      <td>45</td>\n",
       "      <td>0871696871</td>\n",
       "    </tr>\n",
       "    <tr>\n",
       "      <th>97614</th>\n",
       "      <td>-12</td>\n",
       "      <td>8370955196</td>\n",
       "      <td>45</td>\n",
       "      <td>1379095497</td>\n",
       "    </tr>\n",
       "    <tr>\n",
       "      <th>97615</th>\n",
       "      <td>-12</td>\n",
       "      <td>7961353309</td>\n",
       "      <td>45</td>\n",
       "      <td>2842063102</td>\n",
       "    </tr>\n",
       "    <tr>\n",
       "      <th>97616</th>\n",
       "      <td>-12</td>\n",
       "      <td>8611649609</td>\n",
       "      <td>45</td>\n",
       "      <td>1185503145</td>\n",
       "    </tr>\n",
       "    <tr>\n",
       "      <th>97617</th>\n",
       "      <td>-12</td>\n",
       "      <td>7821666736</td>\n",
       "      <td>45</td>\n",
       "      <td>1344279083</td>\n",
       "    </tr>\n",
       "  </tbody>\n",
       "</table>\n",
       "<p>36742 rows × 4 columns</p>\n",
       "</div>"
      ],
      "text/plain": [
       "              0           1   2            3\n",
       "Code INSEE                                  \n",
       "01001        46  1534255214   4  92611354223\n",
       "01002        46  0091878776   5  42801696363\n",
       "01004        45  9608475114   5   3729257777\n",
       "01005        45  9961799872   4  91227250796\n",
       "01006        45  7494989044   5  59432017366\n",
       "01007        46  0055913782   5  35760660735\n",
       "01008        45  9367134524   5   3328092349\n",
       "01009        45  7873565333   5  65788307924\n",
       "...         ...         ...  ..          ...\n",
       "97610       -12  7465604467  45   1869991913\n",
       "97611       -12  7899979586  45   1932456026\n",
       "97612       -12  6875073612  45   0736802335\n",
       "97613       -12  7513099309  45   0871696871\n",
       "97614       -12  8370955196  45   1379095497\n",
       "97615       -12  7961353309  45   2842063102\n",
       "97616       -12  8611649609  45   1185503145\n",
       "97617       -12  7821666736  45   1344279083\n",
       "\n",
       "[36742 rows x 4 columns]"
      ]
     },
     "execution_count": 116,
     "metadata": {},
     "output_type": "execute_result"
    }
   ],
   "source": [
    "df[\"geo_point_2d\"].str.extract(\"(.*)\\.(.*), (.*)\\.(.*)\")"
   ]
  },
  {
   "cell_type": "code",
   "execution_count": 118,
   "id": "4fea4f86-fb9a-4884-800d-5570bff846e3",
   "metadata": {},
   "outputs": [
    {
     "data": {
      "text/html": [
       "<div>\n",
       "<style scoped>\n",
       "    .dataframe tbody tr th:only-of-type {\n",
       "        vertical-align: middle;\n",
       "    }\n",
       "\n",
       "    .dataframe tbody tr th {\n",
       "        vertical-align: top;\n",
       "    }\n",
       "\n",
       "    .dataframe thead th {\n",
       "        text-align: right;\n",
       "    }\n",
       "</style>\n",
       "<table border=\"1\" class=\"dataframe\">\n",
       "  <thead>\n",
       "    <tr style=\"text-align: right;\">\n",
       "      <th></th>\n",
       "      <th>Code Postal</th>\n",
       "      <th>Commune</th>\n",
       "      <th>Département</th>\n",
       "      <th>Région</th>\n",
       "      <th>Statut</th>\n",
       "      <th>Altitude Moyenne</th>\n",
       "      <th>Superficie</th>\n",
       "      <th>Population</th>\n",
       "      <th>geo_point_2d</th>\n",
       "      <th>geo_shape</th>\n",
       "      <th>Densité</th>\n",
       "      <th>CP Ville</th>\n",
       "      <th>Latitude</th>\n",
       "      <th>Longitude</th>\n",
       "      <th>lat</th>\n",
       "      <th>long</th>\n",
       "    </tr>\n",
       "    <tr>\n",
       "      <th>Code INSEE</th>\n",
       "      <th></th>\n",
       "      <th></th>\n",
       "      <th></th>\n",
       "      <th></th>\n",
       "      <th></th>\n",
       "      <th></th>\n",
       "      <th></th>\n",
       "      <th></th>\n",
       "      <th></th>\n",
       "      <th></th>\n",
       "      <th></th>\n",
       "      <th></th>\n",
       "      <th></th>\n",
       "      <th></th>\n",
       "      <th></th>\n",
       "      <th></th>\n",
       "    </tr>\n",
       "  </thead>\n",
       "  <tbody>\n",
       "    <tr>\n",
       "      <th>01001</th>\n",
       "      <td>01400</td>\n",
       "      <td>L'ABERGEMENT-CLEMENCIAT</td>\n",
       "      <td>AIN</td>\n",
       "      <td>RHONE-ALPES</td>\n",
       "      <td>Commune simple</td>\n",
       "      <td>242</td>\n",
       "      <td>15.65</td>\n",
       "      <td>0.8</td>\n",
       "      <td>46.1534255214, 4.92611354223</td>\n",
       "      <td>{\"type\": \"Polygon\", \"coordinates\": [[[4.926273...</td>\n",
       "      <td>0.051118</td>\n",
       "      <td>01400 L'ABERGEMENT-CLEMENCIAT</td>\n",
       "      <td>46.153426</td>\n",
       "      <td>4.926114</td>\n",
       "      <td>46.1534255214</td>\n",
       "      <td>4.92611354223</td>\n",
       "    </tr>\n",
       "    <tr>\n",
       "      <th>01002</th>\n",
       "      <td>01640</td>\n",
       "      <td>L'ABERGEMENT-DE-VAREY</td>\n",
       "      <td>AIN</td>\n",
       "      <td>RHONE-ALPES</td>\n",
       "      <td>Commune simple</td>\n",
       "      <td>483</td>\n",
       "      <td>9.12</td>\n",
       "      <td>0.2</td>\n",
       "      <td>46.0091878776, 5.42801696363</td>\n",
       "      <td>{\"type\": \"Polygon\", \"coordinates\": [[[5.430089...</td>\n",
       "      <td>0.021930</td>\n",
       "      <td>01640 L'ABERGEMENT-DE-VAREY</td>\n",
       "      <td>46.009188</td>\n",
       "      <td>5.428017</td>\n",
       "      <td>46.0091878776</td>\n",
       "      <td>5.42801696363</td>\n",
       "    </tr>\n",
       "    <tr>\n",
       "      <th>01004</th>\n",
       "      <td>01500</td>\n",
       "      <td>AMBERIEU-EN-BUGEY</td>\n",
       "      <td>AIN</td>\n",
       "      <td>RHONE-ALPES</td>\n",
       "      <td>Chef-lieu canton</td>\n",
       "      <td>379</td>\n",
       "      <td>24.48</td>\n",
       "      <td>13.4</td>\n",
       "      <td>45.9608475114, 5.3729257777</td>\n",
       "      <td>{\"type\": \"Polygon\", \"coordinates\": [[[5.386190...</td>\n",
       "      <td>0.547386</td>\n",
       "      <td>01500 AMBERIEU-EN-BUGEY</td>\n",
       "      <td>45.960848</td>\n",
       "      <td>5.372926</td>\n",
       "      <td>45.9608475114</td>\n",
       "      <td>5.3729257777</td>\n",
       "    </tr>\n",
       "  </tbody>\n",
       "</table>\n",
       "</div>"
      ],
      "text/plain": [
       "           Code Postal                  Commune Département       Région  \\\n",
       "Code INSEE                                                                 \n",
       "01001            01400  L'ABERGEMENT-CLEMENCIAT         AIN  RHONE-ALPES   \n",
       "01002            01640    L'ABERGEMENT-DE-VAREY         AIN  RHONE-ALPES   \n",
       "01004            01500        AMBERIEU-EN-BUGEY         AIN  RHONE-ALPES   \n",
       "\n",
       "                      Statut  Altitude Moyenne  Superficie  Population  \\\n",
       "Code INSEE                                                               \n",
       "01001         Commune simple               242       15.65         0.8   \n",
       "01002         Commune simple               483        9.12         0.2   \n",
       "01004       Chef-lieu canton               379       24.48        13.4   \n",
       "\n",
       "                            geo_point_2d  \\\n",
       "Code INSEE                                 \n",
       "01001       46.1534255214, 4.92611354223   \n",
       "01002       46.0091878776, 5.42801696363   \n",
       "01004        45.9608475114, 5.3729257777   \n",
       "\n",
       "                                                    geo_shape   Densité  \\\n",
       "Code INSEE                                                                \n",
       "01001       {\"type\": \"Polygon\", \"coordinates\": [[[4.926273...  0.051118   \n",
       "01002       {\"type\": \"Polygon\", \"coordinates\": [[[5.430089...  0.021930   \n",
       "01004       {\"type\": \"Polygon\", \"coordinates\": [[[5.386190...  0.547386   \n",
       "\n",
       "                                 CP Ville   Latitude  Longitude  \\\n",
       "Code INSEE                                                        \n",
       "01001       01400 L'ABERGEMENT-CLEMENCIAT  46.153426   4.926114   \n",
       "01002         01640 L'ABERGEMENT-DE-VAREY  46.009188   5.428017   \n",
       "01004             01500 AMBERIEU-EN-BUGEY  45.960848   5.372926   \n",
       "\n",
       "                      lat           long  \n",
       "Code INSEE                                \n",
       "01001       46.1534255214  4.92611354223  \n",
       "01002       46.0091878776  5.42801696363  \n",
       "01004       45.9608475114   5.3729257777  "
      ]
     },
     "execution_count": 118,
     "metadata": {},
     "output_type": "execute_result"
    }
   ],
   "source": [
    "pd.concat([df, df[\"geo_point_2d\"].str.extract(\"(?P<lat>.*), (?P<long>.*)\")], axis=1).head(3)"
   ]
  },
  {
   "cell_type": "code",
   "execution_count": 119,
   "id": "f699c64b-ec37-427d-a4b0-719f4e70682b",
   "metadata": {},
   "outputs": [
    {
     "data": {
      "text/html": [
       "<div>\n",
       "<style scoped>\n",
       "    .dataframe tbody tr th:only-of-type {\n",
       "        vertical-align: middle;\n",
       "    }\n",
       "\n",
       "    .dataframe tbody tr th {\n",
       "        vertical-align: top;\n",
       "    }\n",
       "\n",
       "    .dataframe thead th {\n",
       "        text-align: right;\n",
       "    }\n",
       "</style>\n",
       "<table border=\"1\" class=\"dataframe\">\n",
       "  <thead>\n",
       "    <tr style=\"text-align: right;\">\n",
       "      <th></th>\n",
       "      <th>Commune</th>\n",
       "      <th>Département</th>\n",
       "    </tr>\n",
       "    <tr>\n",
       "      <th>Code INSEE</th>\n",
       "      <th></th>\n",
       "      <th></th>\n",
       "    </tr>\n",
       "  </thead>\n",
       "  <tbody>\n",
       "    <tr>\n",
       "      <th>01001</th>\n",
       "      <td>L'ABERGEMENT-CLEMENCIAT</td>\n",
       "      <td>AIN</td>\n",
       "    </tr>\n",
       "    <tr>\n",
       "      <th>01002</th>\n",
       "      <td>L'ABERGEMENT-DE-VAREY</td>\n",
       "      <td>AIN</td>\n",
       "    </tr>\n",
       "    <tr>\n",
       "      <th>01004</th>\n",
       "      <td>AMBERIEU-EN-BUGEY</td>\n",
       "      <td>AIN</td>\n",
       "    </tr>\n",
       "    <tr>\n",
       "      <th>01005</th>\n",
       "      <td>AMBERIEUX-EN-DOMBES</td>\n",
       "      <td>AIN</td>\n",
       "    </tr>\n",
       "    <tr>\n",
       "      <th>01006</th>\n",
       "      <td>AMBLEON</td>\n",
       "      <td>AIN</td>\n",
       "    </tr>\n",
       "    <tr>\n",
       "      <th>01007</th>\n",
       "      <td>AMBRONAY</td>\n",
       "      <td>AIN</td>\n",
       "    </tr>\n",
       "    <tr>\n",
       "      <th>01008</th>\n",
       "      <td>AMBUTRIX</td>\n",
       "      <td>AIN</td>\n",
       "    </tr>\n",
       "    <tr>\n",
       "      <th>01009</th>\n",
       "      <td>ANDERT-ET-CONDON</td>\n",
       "      <td>AIN</td>\n",
       "    </tr>\n",
       "    <tr>\n",
       "      <th>...</th>\n",
       "      <td>...</td>\n",
       "      <td>...</td>\n",
       "    </tr>\n",
       "    <tr>\n",
       "      <th>97610</th>\n",
       "      <td>KOUNGOU</td>\n",
       "      <td>MAYOTTE</td>\n",
       "    </tr>\n",
       "    <tr>\n",
       "      <th>97611</th>\n",
       "      <td>MAMOUDZOU</td>\n",
       "      <td>MAYOTTE</td>\n",
       "    </tr>\n",
       "    <tr>\n",
       "      <th>97612</th>\n",
       "      <td>MTSAMBORO</td>\n",
       "      <td>MAYOTTE</td>\n",
       "    </tr>\n",
       "    <tr>\n",
       "      <th>97613</th>\n",
       "      <td>M'TSANGAMOUJI</td>\n",
       "      <td>MAYOTTE</td>\n",
       "    </tr>\n",
       "    <tr>\n",
       "      <th>97614</th>\n",
       "      <td>OUANGANI</td>\n",
       "      <td>MAYOTTE</td>\n",
       "    </tr>\n",
       "    <tr>\n",
       "      <th>97615</th>\n",
       "      <td>PAMANDZI</td>\n",
       "      <td>MAYOTTE</td>\n",
       "    </tr>\n",
       "    <tr>\n",
       "      <th>97616</th>\n",
       "      <td>SADA</td>\n",
       "      <td>MAYOTTE</td>\n",
       "    </tr>\n",
       "    <tr>\n",
       "      <th>97617</th>\n",
       "      <td>TSINGONI</td>\n",
       "      <td>MAYOTTE</td>\n",
       "    </tr>\n",
       "  </tbody>\n",
       "</table>\n",
       "<p>36742 rows × 2 columns</p>\n",
       "</div>"
      ],
      "text/plain": [
       "                            Commune Département\n",
       "Code INSEE                                     \n",
       "01001       L'ABERGEMENT-CLEMENCIAT         AIN\n",
       "01002         L'ABERGEMENT-DE-VAREY         AIN\n",
       "01004             AMBERIEU-EN-BUGEY         AIN\n",
       "01005           AMBERIEUX-EN-DOMBES         AIN\n",
       "01006                       AMBLEON         AIN\n",
       "01007                      AMBRONAY         AIN\n",
       "01008                      AMBUTRIX         AIN\n",
       "01009              ANDERT-ET-CONDON         AIN\n",
       "...                             ...         ...\n",
       "97610                       KOUNGOU     MAYOTTE\n",
       "97611                     MAMOUDZOU     MAYOTTE\n",
       "97612                     MTSAMBORO     MAYOTTE\n",
       "97613                 M'TSANGAMOUJI     MAYOTTE\n",
       "97614                      OUANGANI     MAYOTTE\n",
       "97615                      PAMANDZI     MAYOTTE\n",
       "97616                          SADA     MAYOTTE\n",
       "97617                      TSINGONI     MAYOTTE\n",
       "\n",
       "[36742 rows x 2 columns]"
      ]
     },
     "execution_count": 119,
     "metadata": {},
     "output_type": "execute_result"
    }
   ],
   "source": [
    "df[[\"Commune\", \"Département\"]]"
   ]
  },
  {
   "cell_type": "code",
   "execution_count": 120,
   "id": "93e5cbaa-22b6-4696-939b-51cd7bb461f9",
   "metadata": {},
   "outputs": [
    {
     "data": {
      "text/plain": [
       "'45470 REBRECHIEN'"
      ]
     },
     "execution_count": 120,
     "metadata": {},
     "output_type": "execute_result"
    }
   ],
   "source": [
    "import numpy as np\n",
    "\n",
    "def ville(lat, long):\n",
    "    dist = np.sqrt((df[\"Latitude\"] - lat)**2 + (df[\"Longitude\"] - long)**2)\n",
    "    return df.loc[dist.idxmin(), \"CP Ville\"]\n",
    "\n",
    "ville(48, 2)"
   ]
  },
  {
   "cell_type": "code",
   "execution_count": 124,
   "id": "cbec83dc-8be9-40f4-95a4-7363c6bad50c",
   "metadata": {},
   "outputs": [],
   "source": [
    "def ville2(lat, long):\n",
    "    dist2 = (df[\"Latitude\"] - lat)**2 + (df[\"Longitude\"] - long)**2\n",
    "    return df.loc[dist2.idxmin(), \"CP Ville\"]"
   ]
  },
  {
   "cell_type": "code",
   "execution_count": 121,
   "id": "a59cbb7e-7e7b-4f08-9bbe-55daaf1cacb7",
   "metadata": {},
   "outputs": [],
   "source": [
    "def gps2dec(deg, mn, sec):\n",
    "    return deg + mn/60 + sec/3600"
   ]
  },
  {
   "cell_type": "code",
   "execution_count": 122,
   "id": "9769a354-d44c-419f-a38d-28707996da58",
   "metadata": {},
   "outputs": [
    {
     "data": {
      "text/plain": [
       "'06670 SAINT-MARTIN-DU-VAR'"
      ]
     },
     "execution_count": 122,
     "metadata": {},
     "output_type": "execute_result"
    }
   ],
   "source": [
    "# 43° 49′ 24″ nord, 7° 11′ 34″ est\n",
    "ville(gps2dec(43, 49, 24), gps2dec(7, 11, 34))"
   ]
  },
  {
   "cell_type": "code",
   "execution_count": 125,
   "id": "c66a392e-8bee-409f-8547-edcc5c4d8b63",
   "metadata": {},
   "outputs": [
    {
     "data": {
      "text/plain": [
       "'80190 Y'"
      ]
     },
     "execution_count": 125,
     "metadata": {},
     "output_type": "execute_result"
    }
   ],
   "source": [
    "# 49° 48′ 14″ nord, 2° 59′ 34″ est\n",
    "ville(gps2dec(49, 48, 14), gps2dec(2, 59, 34))"
   ]
  },
  {
   "cell_type": "code",
   "execution_count": 134,
   "id": "da27eeae-adb4-40cd-b810-c5df5a30ac89",
   "metadata": {},
   "outputs": [
    {
     "data": {
      "text/plain": [
       "Code INSEE\n",
       "01001    {\"type\": \"Polygon\", \"coordinates\": [[[4.926273...\n",
       "01002    {\"type\": \"Polygon\", \"coordinates\": [[[5.430089...\n",
       "01004    {\"type\": \"Polygon\", \"coordinates\": [[[5.386190...\n",
       "01005    {\"type\": \"Polygon\", \"coordinates\": [[[4.895580...\n",
       "01006    {\"type\": \"Polygon\", \"coordinates\": [[[5.614854...\n",
       "01007    {\"type\": \"Polygon\", \"coordinates\": [[[5.413533...\n",
       "01008    {\"type\": \"Polygon\", \"coordinates\": [[[5.321986...\n",
       "01009    {\"type\": \"Polygon\", \"coordinates\": [[[5.656393...\n",
       "                               ...                        \n",
       "97610    {\"type\": \"Polygon\", \"coordinates\": [[[45.23692...\n",
       "97611    {\"type\": \"Polygon\", \"coordinates\": [[[45.19781...\n",
       "97612    {\"type\": \"MultiPolygon\", \"coordinates\": [[[[45...\n",
       "97613    {\"type\": \"Polygon\", \"coordinates\": [[[45.10168...\n",
       "97614    {\"type\": \"Polygon\", \"coordinates\": [[[45.15401...\n",
       "97615    {\"type\": \"Polygon\", \"coordinates\": [[[45.29645...\n",
       "97616    {\"type\": \"Polygon\", \"coordinates\": [[[45.13226...\n",
       "97617    {\"type\": \"Polygon\", \"coordinates\": [[[45.15256...\n",
       "Name: geo_shape, Length: 36742, dtype: object"
      ]
     },
     "execution_count": 134,
     "metadata": {},
     "output_type": "execute_result"
    }
   ],
   "source": [
    "df[\"geo_shape\"]"
   ]
  },
  {
   "cell_type": "code",
   "execution_count": 127,
   "id": "de713944-23b9-4e47-bc66-2c50a8254564",
   "metadata": {},
   "outputs": [
    {
     "data": {
      "text/plain": [
       "'{\"type\": \"Polygon\", \"coordinates\": [[[4.92627342692396, 46.1200517234555], [4.92199538031264, 46.12069170563269], [4.921996260482057, 46.12663667307488], [4.90936269187648, 46.129164756530656], [4.916016986429157, 46.14461766984426], [4.903080786126749, 46.157977074275074], [4.904571300671208, 46.16096059498421], [4.910603091203733, 46.180432597608316], [4.914119126867876, 46.18271538441311], [4.932895432675545, 46.18304616431434], [4.938729478686701, 46.17383114520867], [4.933038591703602, 46.16429901579509], [4.958286230120842, 46.153246666893935], [4.943330383388636, 46.145964148557894], [4.939154593056283, 46.12938048470421], [4.931056072485923, 46.12087123131487], [4.92627342692396, 46.1200517234555]]]}'"
      ]
     },
     "execution_count": 127,
     "metadata": {},
     "output_type": "execute_result"
    }
   ],
   "source": [
    "df[\"geo_shape\"][0]"
   ]
  },
  {
   "cell_type": "code",
   "execution_count": 129,
   "id": "b994d0a7-21b1-47ab-abf3-cd962335bf43",
   "metadata": {},
   "outputs": [
    {
     "data": {
      "text/plain": [
       "{'type': 'Polygon',\n",
       " 'coordinates': [[[4.92627342692396, 46.1200517234555],\n",
       "   [4.92199538031264, 46.12069170563269],\n",
       "   [4.921996260482057, 46.12663667307488],\n",
       "   [4.90936269187648, 46.129164756530656],\n",
       "   [4.916016986429157, 46.14461766984426],\n",
       "   [4.903080786126749, 46.157977074275074],\n",
       "   [4.904571300671208, 46.16096059498421],\n",
       "   [4.910603091203733, 46.180432597608316],\n",
       "   [4.914119126867876, 46.18271538441311],\n",
       "   [4.932895432675545, 46.18304616431434],\n",
       "   [4.938729478686701, 46.17383114520867],\n",
       "   [4.933038591703602, 46.16429901579509],\n",
       "   [4.958286230120842, 46.153246666893935],\n",
       "   [4.943330383388636, 46.145964148557894],\n",
       "   [4.939154593056283, 46.12938048470421],\n",
       "   [4.931056072485923, 46.12087123131487],\n",
       "   [4.92627342692396, 46.1200517234555]]]}"
      ]
     },
     "execution_count": 129,
     "metadata": {},
     "output_type": "execute_result"
    }
   ],
   "source": [
    "import json\n",
    "\n",
    "dico = json.loads(df[\"geo_shape\"][0])\n",
    "dico"
   ]
  },
  {
   "cell_type": "code",
   "execution_count": 130,
   "id": "9c3b89f9-4a10-48dc-804f-bd673b8da354",
   "metadata": {},
   "outputs": [
    {
     "data": {
      "text/plain": [
       "'Polygon'"
      ]
     },
     "execution_count": 130,
     "metadata": {},
     "output_type": "execute_result"
    }
   ],
   "source": [
    "dico[\"type\"]"
   ]
  },
  {
   "cell_type": "code",
   "execution_count": 133,
   "id": "8c953706-eaa7-4f31-af38-449eda9dae20",
   "metadata": {},
   "outputs": [
    {
     "data": {
      "text/plain": [
       "[4.92627342692396, 46.1200517234555]"
      ]
     },
     "execution_count": 133,
     "metadata": {},
     "output_type": "execute_result"
    }
   ],
   "source": [
    "dico[\"coordinates\"][0][0]"
   ]
  },
  {
   "cell_type": "code",
   "execution_count": 135,
   "id": "073fc179-2cd0-4bf9-8992-d5f8dcee5185",
   "metadata": {},
   "outputs": [
    {
     "data": {
      "text/plain": [
       "Code INSEE\n",
       "01001    {'type': 'Polygon', 'coordinates': [[[4.926273...\n",
       "01002    {'type': 'Polygon', 'coordinates': [[[5.430089...\n",
       "01004    {'type': 'Polygon', 'coordinates': [[[5.386190...\n",
       "01005    {'type': 'Polygon', 'coordinates': [[[4.895580...\n",
       "01006    {'type': 'Polygon', 'coordinates': [[[5.614854...\n",
       "01007    {'type': 'Polygon', 'coordinates': [[[5.413533...\n",
       "01008    {'type': 'Polygon', 'coordinates': [[[5.321986...\n",
       "01009    {'type': 'Polygon', 'coordinates': [[[5.656393...\n",
       "                               ...                        \n",
       "97610    {'type': 'Polygon', 'coordinates': [[[45.23692...\n",
       "97611    {'type': 'Polygon', 'coordinates': [[[45.19781...\n",
       "97612    {'type': 'MultiPolygon', 'coordinates': [[[[45...\n",
       "97613    {'type': 'Polygon', 'coordinates': [[[45.10168...\n",
       "97614    {'type': 'Polygon', 'coordinates': [[[45.15401...\n",
       "97615    {'type': 'Polygon', 'coordinates': [[[45.29645...\n",
       "97616    {'type': 'Polygon', 'coordinates': [[[45.13226...\n",
       "97617    {'type': 'Polygon', 'coordinates': [[[45.15256...\n",
       "Name: geo_shape, Length: 36742, dtype: object"
      ]
     },
     "execution_count": 135,
     "metadata": {},
     "output_type": "execute_result"
    }
   ],
   "source": [
    "geo_shape_json = df[\"geo_shape\"].apply(json.loads)\n",
    "geo_shape_json"
   ]
  },
  {
   "cell_type": "code",
   "execution_count": 136,
   "id": "86d12d30-428b-4cff-b93c-3db0a9504ad0",
   "metadata": {},
   "outputs": [
    {
     "data": {
      "text/plain": [
       "{'type': 'Polygon',\n",
       " 'coordinates': [[[4.92627342692396, 46.1200517234555],\n",
       "   [4.92199538031264, 46.12069170563269],\n",
       "   [4.921996260482057, 46.12663667307488],\n",
       "   [4.90936269187648, 46.129164756530656],\n",
       "   [4.916016986429157, 46.14461766984426],\n",
       "   [4.903080786126749, 46.157977074275074],\n",
       "   [4.904571300671208, 46.16096059498421],\n",
       "   [4.910603091203733, 46.180432597608316],\n",
       "   [4.914119126867876, 46.18271538441311],\n",
       "   [4.932895432675545, 46.18304616431434],\n",
       "   [4.938729478686701, 46.17383114520867],\n",
       "   [4.933038591703602, 46.16429901579509],\n",
       "   [4.958286230120842, 46.153246666893935],\n",
       "   [4.943330383388636, 46.145964148557894],\n",
       "   [4.939154593056283, 46.12938048470421],\n",
       "   [4.931056072485923, 46.12087123131487],\n",
       "   [4.92627342692396, 46.1200517234555]]]}"
      ]
     },
     "execution_count": 136,
     "metadata": {},
     "output_type": "execute_result"
    }
   ],
   "source": [
    "geo_shape_json[0]"
   ]
  },
  {
   "cell_type": "code",
   "execution_count": 141,
   "id": "1929feff-bded-4f58-a299-2f3a8a150f8b",
   "metadata": {},
   "outputs": [
    {
     "data": {
      "text/plain": [
       "Polygon         36670\n",
       "MultiPolygon       72\n",
       "Name: geo_shape, dtype: int64"
      ]
     },
     "execution_count": 141,
     "metadata": {},
     "output_type": "execute_result"
    }
   ],
   "source": [
    "geo_shape_json.apply(lambda d: d[\"type\"]).value_counts()"
   ]
  },
  {
   "cell_type": "code",
   "execution_count": 142,
   "id": "5f3447d3-653f-4a38-b94b-a522adbf9f7d",
   "metadata": {},
   "outputs": [
    {
     "data": {
      "text/plain": [
       "1    36660\n",
       "2       80\n",
       "3        1\n",
       "4        1\n",
       "Name: geo_shape, dtype: int64"
      ]
     },
     "execution_count": 142,
     "metadata": {},
     "output_type": "execute_result"
    }
   ],
   "source": [
    "geo_shape_json.apply(lambda d: len(d[\"coordinates\"])).value_counts()"
   ]
  },
  {
   "cell_type": "code",
   "execution_count": 143,
   "id": "424927a5-5d08-4988-861b-f2cca463a2a7",
   "metadata": {},
   "outputs": [
    {
     "data": {
      "text/plain": [
       "'83400 HYERES'"
      ]
     },
     "execution_count": 143,
     "metadata": {},
     "output_type": "execute_result"
    }
   ],
   "source": [
    "df.loc[geo_shape_json.apply(lambda d: len(d[\"coordinates\"])).idxmax(), \"CP Ville\"]"
   ]
  },
  {
   "cell_type": "code",
   "execution_count": 144,
   "id": "fd983002-5997-4cfe-87f5-0d9bd86f2e83",
   "metadata": {},
   "outputs": [
    {
     "data": {
      "text/plain": [
       "Code INSEE\n",
       "02232               02600 COYOLLES\n",
       "05052               05600 EYGLIERS\n",
       "09042    09240 LA BASTIDE-DE-SEROU\n",
       "22209              22650 PLOUBALAY\n",
       "2A272                20100 SARTENE\n",
       "2B049              20214 CALENZANA\n",
       "48080               48300 LANGOGNE\n",
       "67486              67920 SUNDHOUSE\n",
       "68078              68420 EGUISHEIM\n",
       "71028            71270 BEAUVERNOIS\n",
       "Name: CP Ville, dtype: object"
      ]
     },
     "execution_count": 144,
     "metadata": {},
     "output_type": "execute_result"
    }
   ],
   "source": [
    "df.loc[(geo_shape_json.apply(lambda d: d[\"type\"])==\"Polygon\") & (geo_shape_json.apply(lambda d: len(d[\"coordinates\"])) == 2), \"CP Ville\"]"
   ]
  },
  {
   "cell_type": "code",
   "execution_count": 147,
   "id": "6b59f376-591a-4fc2-9b1c-6aef69c594cc",
   "metadata": {},
   "outputs": [
    {
     "data": {
      "text/plain": [
       "2"
      ]
     },
     "execution_count": 147,
     "metadata": {},
     "output_type": "execute_result"
    }
   ],
   "source": [
    "len(geo_shape_json.loc[\"02232\"][\"coordinates\"])"
   ]
  },
  {
   "cell_type": "code",
   "execution_count": 151,
   "id": "2ce1ac01-b31f-4fd7-ba83-24e0f0221658",
   "metadata": {},
   "outputs": [
    {
     "data": {
      "image/png": "[encoded data removed]",
      "text/plain": [
       "<Figure size 640x480 with 1 Axes>"
      ]
     },
     "metadata": {},
     "output_type": "display_data"
    }
   ],
   "source": [
    "df[\"Commune\"].str.len().plot.hist(bins=40);"
   ]
  },
  {
   "cell_type": "code",
   "execution_count": 152,
   "id": "88083b6a-eff6-4382-95b1-50ffd05112f6",
   "metadata": {},
   "outputs": [
    {
     "data": {
      "image/png": "[encoded data removed]",
      "text/plain": [
       "<Figure size 640x480 with 1 Axes>"
      ]
     },
     "metadata": {},
     "output_type": "display_data"
    }
   ],
   "source": [
    "plt.scatter(x=df[\"Longitude\"], y=df[\"Latitude\"]);"
   ]
  },
  {
   "cell_type": "code",
   "execution_count": 153,
   "id": "e30c01fb-b497-4a80-9ffb-50467039d092",
   "metadata": {},
   "outputs": [
    {
     "data": {
      "image/png": "[encoded data removed]",
      "text/plain": [
       "<Figure size 640x480 with 1 Axes>"
      ]
     },
     "metadata": {},
     "output_type": "display_data"
    }
   ],
   "source": [
    "metro = df.loc[df[\"Latitude\"]>40]\n",
    "plt.scatter(x=metro[\"Longitude\"], y=metro[\"Latitude\"]);"
   ]
  },
  {
   "cell_type": "code",
   "execution_count": 156,
   "id": "5f6c8cb7-ad2c-419d-8bcc-a8635ca96d7e",
   "metadata": {},
   "outputs": [
    {
     "data": {
      "image/png": "[encoded data removed]",
      "text/plain": [
       "<Figure size 640x480 with 1 Axes>"
      ]
     },
     "metadata": {},
     "output_type": "display_data"
    }
   ],
   "source": [
    "metro1 = metro.loc[metro[\"Altitude Moyenne\"]<=1000]\n",
    "plt.scatter(x=metro1[\"Longitude\"], y=metro1[\"Latitude\"], c=\"b\");\n",
    "metro2 = metro.loc[metro[\"Altitude Moyenne\"]>1000]\n",
    "plt.scatter(x=metro2[\"Longitude\"], y=metro2[\"Latitude\"], c=\"r\");"
   ]
  },
  {
   "cell_type": "code",
   "execution_count": 162,
   "id": "069c909a-c6e6-4195-aaef-b245a0edd95b",
   "metadata": {},
   "outputs": [],
   "source": [
    "def show(mot1, mot2):\n",
    "    plt.scatter(x=metro[\"Longitude\"], y=metro[\"Latitude\"], c=\"lightgrey\")\n",
    "    sel = selection(mot1, mot2)\n",
    "    plt.scatter(x=sel[\"Longitude\"], y=sel[\"Latitude\"], c=\"lightgreen\", s=5)"
   ]
  },
  {
   "cell_type": "code",
   "execution_count": 167,
   "id": "cdc7e58f-298a-479b-9d14-8067c3801c00",
   "metadata": {},
   "outputs": [
    {
     "data": {
      "image/png": "[encoded data removed]",
      "text/plain": [
       "<Figure size 640x480 with 1 Axes>"
      ]
     },
     "metadata": {},
     "output_type": "display_data"
    }
   ],
   "source": [
    "show(\"SUR\", \"MER\")"
   ]
  },
  {
   "cell_type": "code",
   "execution_count": 171,
   "id": "f7176485-67d5-4483-99e2-7c7cfa00338b",
   "metadata": {},
   "outputs": [
    {
     "data": {
      "image/png": "[encoded data removed]",
      "text/plain": [
       "<Figure size 640x480 with 2 Axes>"
      ]
     },
     "metadata": {},
     "output_type": "display_data"
    }
   ],
   "source": [
    "metro = metro.sort_values(\"Altitude Moyenne\")\n",
    "plt.scatter(x=metro[\"Longitude\"], y=metro[\"Latitude\"], c=metro[\"Altitude Moyenne\"], cmap=\"Spectral_r\", s=5)\n",
    "plt.colorbar();"
   ]
  },
  {
   "cell_type": "code",
   "execution_count": 183,
   "id": "d6b3c7c8-9d13-4e42-8422-6b2f45ed7be6",
   "metadata": {},
   "outputs": [
    {
     "data": {
      "image/png": "[encoded data removed]",
      "text/plain": [
       "<Figure size 640x480 with 1 Axes>"
      ]
     },
     "metadata": {},
     "output_type": "display_data"
    }
   ],
   "source": [
    "plt.scatter(x=metro[\"Longitude\"], y=metro[\"Latitude\"], c=\"lightgrey\")\n",
    "prefs = metro.loc[metro[\"Statut\"]>=\"Préfecture de région\"]\n",
    "plt.scatter(x=prefs[\"Longitude\"], y=prefs[\"Latitude\"], c=\"k\", s=10)\n",
    "for x in prefs.itertuples():\n",
    "    plt.annotate(x[2].title(), (x[-1], x[-2]))"
   ]
  },
  {
   "cell_type": "code",
   "execution_count": 179,
   "id": "4f9e58a0-927f-44b8-a89e-4bde16ad9e1b",
   "metadata": {},
   "outputs": [
    {
     "name": "stdout",
     "output_type": "stream",
     "text": [
      "CPU times: total: 3.47 s\n",
      "Wall time: 3.49 s\n"
     ]
    }
   ],
   "source": [
    "%%time\n",
    "for x in df.iterrows():\n",
    "    pass"
   ]
  },
  {
   "cell_type": "code",
   "execution_count": 180,
   "id": "48f1a81a-74b7-4062-bb30-d7d500db1a4e",
   "metadata": {},
   "outputs": [
    {
     "name": "stdout",
     "output_type": "stream",
     "text": [
      "CPU times: total: 188 ms\n",
      "Wall time: 165 ms\n"
     ]
    }
   ],
   "source": [
    "%%time\n",
    "for x in df.itertuples():\n",
    "    pass"
   ]
  }
 ],
 "metadata": {
  "kernelspec": {
   "display_name": "Python 3 (ipykernel)",
   "language": "python",
   "name": "python3"
  },
  "language_info": {
   "codemirror_mode": {
    "name": "ipython",
    "version": 3
   },
   "file_extension": ".py",
   "mimetype": "text/x-python",
   "name": "python",
   "nbconvert_exporter": "python",
   "pygments_lexer": "ipython3",
   "version": "3.10.9"
  }
 },
 "nbformat": 4,
 "nbformat_minor": 5
}
